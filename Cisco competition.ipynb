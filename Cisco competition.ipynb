{
 "cells": [
  {
   "cell_type": "markdown",
   "metadata": {
    "datalore": {
     "hide_input_from_viewers": false,
     "hide_output_from_viewers": false,
     "node_id": "DataExplorationWithoutFilter",
     "sheet_delimiter": true,
     "type": "MD"
    }
   },
   "source": [
    "# DataExplorationWithoutFilter"
   ]
  },
  {
   "cell_type": "markdown",
   "metadata": {
    "datalore": {
     "hide_input_from_viewers": false,
     "hide_output_from_viewers": false,
     "node_id": "BBbkzWXAkPkyXf52oc11lD",
     "report_properties": {
      "y": 0
     },
     "type": "MD"
    }
   },
   "source": [
    "**############# Imports, settings and first dataset view ###############**"
   ]
  },
  {
   "cell_type": "code",
   "execution_count": 26,
   "metadata": {
    "datalore": {
     "hide_input_from_viewers": false,
     "hide_output_from_viewers": false,
     "node_id": "7AxjCcQjAt7u9I8ryzHjLo",
     "report_properties": {
      "height": 32,
      "isDynamicHeight": true,
      "splitHeight": 15,
      "width": 1,
      "x": 0,
      "y": 3
     },
     "type": "CODE"
    }
   },
   "outputs": [
    {
     "data": {
      "text/html": [
       "<div>\n",
       "<style scoped>\n",
       "    .dataframe tbody tr th:only-of-type {\n",
       "        vertical-align: middle;\n",
       "    }\n",
       "\n",
       "    .dataframe tbody tr th {\n",
       "        vertical-align: top;\n",
       "    }\n",
       "\n",
       "    .dataframe thead th {\n",
       "        text-align: right;\n",
       "    }\n",
       "</style>\n",
       "<table border=\"1\" class=\"dataframe\">\n",
       "  <thead>\n",
       "    <tr style=\"text-align: right;\">\n",
       "      <th></th>\n",
       "      <th>request.headers.Host</th>\n",
       "      <th>request.headers.User-Agent</th>\n",
       "      <th>request.headers.Accept-Encoding</th>\n",
       "      <th>request.headers.Accept</th>\n",
       "      <th>request.headers.Connection</th>\n",
       "      <th>request.headers.Accept-Language</th>\n",
       "      <th>request.headers.Sec-Fetch-Site</th>\n",
       "      <th>request.headers.Sec-Fetch-Mode</th>\n",
       "      <th>request.headers.Sec-Fetch-User</th>\n",
       "      <th>request.headers.Sec-Fetch-Dest</th>\n",
       "      <th>request.headers.Set-Cookie</th>\n",
       "      <th>request.headers.Date</th>\n",
       "      <th>request.method</th>\n",
       "      <th>request.url</th>\n",
       "      <th>request.body</th>\n",
       "      <th>response.status</th>\n",
       "      <th>response.headers.Content-Type</th>\n",
       "      <th>response.headers.Content-Length</th>\n",
       "      <th>response.status_code</th>\n",
       "      <th>response.body</th>\n",
       "      <th>response.headers.Location</th>\n",
       "      <th>request.Attack_Tag</th>\n",
       "      <th>request.headers.Cookie</th>\n",
       "      <th>request.headers.Content-Length</th>\n",
       "      <th>response.headers.Set-Cookie</th>\n",
       "    </tr>\n",
       "  </thead>\n",
       "  <tbody>\n",
       "    <tr>\n",
       "      <th>0</th>\n",
       "      <td>127.0.0.1:5000</td>\n",
       "      <td>Mozilla/5.0 (Windows NT 5.1; rv:31.0) Gecko/20...</td>\n",
       "      <td>gzip, deflate, br</td>\n",
       "      <td>*/*</td>\n",
       "      <td>keep-alive</td>\n",
       "      <td>de-CH</td>\n",
       "      <td>none</td>\n",
       "      <td>same-origin</td>\n",
       "      <td>?1</td>\n",
       "      <td>document</td>\n",
       "      <td>['ck=w6oM9XV_jvWjuuVd3hLe3eSdXXPydbyfsLwTlj4Mc...</td>\n",
       "      <td>Fri, 11 Nov 2022 03:12:09 GMT</td>\n",
       "      <td>GET</td>\n",
       "      <td>http://127.0.0.1:5000/static/download_txt/7115</td>\n",
       "      <td></td>\n",
       "      <td>404 NOT FOUND</td>\n",
       "      <td>application/json</td>\n",
       "      <td>32</td>\n",
       "      <td>404</td>\n",
       "      <td>{\"error\": \"File not found\"}</td>\n",
       "      <td>NaN</td>\n",
       "      <td>NaN</td>\n",
       "      <td>NaN</td>\n",
       "      <td>NaN</td>\n",
       "      <td>NaN</td>\n",
       "    </tr>\n",
       "    <tr>\n",
       "      <th>1</th>\n",
       "      <td>127.0.0.1:5000</td>\n",
       "      <td>Mozilla/5.0 (X11; Linux x86_64) AppleWebKit/53...</td>\n",
       "      <td>gzip, deflate, br</td>\n",
       "      <td>*/*</td>\n",
       "      <td>keep-alive</td>\n",
       "      <td>en-US,en;q=0.9,he;q=0.8</td>\n",
       "      <td>none</td>\n",
       "      <td>same-origin</td>\n",
       "      <td>?1</td>\n",
       "      <td>document</td>\n",
       "      <td>['ck=c8uOUXcCTGAn3VPZ7KkmjeGl7T4m7z5hvteH_e4NP...</td>\n",
       "      <td>Fri, 11 Nov 2022 03:01:18 GMT</td>\n",
       "      <td>GET</td>\n",
       "      <td>http://127.0.0.1:5000/about/random_page</td>\n",
       "      <td></td>\n",
       "      <td>200 OK</td>\n",
       "      <td>text/html; charset=utf-8</td>\n",
       "      <td>1163</td>\n",
       "      <td>200</td>\n",
       "      <td>&lt;figure&gt;&lt;img src=\"https://img-c.udemycdn.com/r...</td>\n",
       "      <td>NaN</td>\n",
       "      <td>NaN</td>\n",
       "      <td>NaN</td>\n",
       "      <td>NaN</td>\n",
       "      <td>NaN</td>\n",
       "    </tr>\n",
       "    <tr>\n",
       "      <th>2</th>\n",
       "      <td>127.0.0.1:5000</td>\n",
       "      <td>Mozilla/5.0 (Windows NT 6.1; WOW64; rv:31.0) G...</td>\n",
       "      <td>gzip, deflate, br</td>\n",
       "      <td>*/*</td>\n",
       "      <td>keep-alive</td>\n",
       "      <td>de-CH</td>\n",
       "      <td>none</td>\n",
       "      <td>websocket</td>\n",
       "      <td>?1</td>\n",
       "      <td>document</td>\n",
       "      <td>['ck=RKquq_BCt65ARAQ2BjFcYW58e4Hr_JMvmHA71wfu8...</td>\n",
       "      <td>Fri, 11 Nov 2022 03:01:17 GMT</td>\n",
       "      <td>GET</td>\n",
       "      <td>http://127.0.0.1:5000/categories/check/all</td>\n",
       "      <td></td>\n",
       "      <td>200 OK</td>\n",
       "      <td>application/json</td>\n",
       "      <td>1112</td>\n",
       "      <td>200</td>\n",
       "      <td>[{\"category_id\": \"1\", \"category_name\": \"Bevera...</td>\n",
       "      <td>NaN</td>\n",
       "      <td>NaN</td>\n",
       "      <td>NaN</td>\n",
       "      <td>NaN</td>\n",
       "      <td>NaN</td>\n",
       "    </tr>\n",
       "    <tr>\n",
       "      <th>3</th>\n",
       "      <td>127.0.0.1:5000</td>\n",
       "      <td>Mozilla/5.0 (Macintosh; Intel Mac OS X 10_10_1...</td>\n",
       "      <td>gzip, deflate, br</td>\n",
       "      <td>*/*</td>\n",
       "      <td>keep-alive</td>\n",
       "      <td>en-US,en;q=0.5</td>\n",
       "      <td>none</td>\n",
       "      <td>same-origin</td>\n",
       "      <td>?1</td>\n",
       "      <td>document</td>\n",
       "      <td>['ck=RhHVh7pmM73Qp434tecicojVb27D_OtIVbYPqWaqj...</td>\n",
       "      <td>Fri, 11 Nov 2022 02:40:48 GMT</td>\n",
       "      <td>GET</td>\n",
       "      <td>http://127.0.0.1:5000/states/5911</td>\n",
       "      <td></td>\n",
       "      <td>404 NOT FOUND</td>\n",
       "      <td>application/json</td>\n",
       "      <td>33</td>\n",
       "      <td>404</td>\n",
       "      <td>{\"error\": \"State not found\"}</td>\n",
       "      <td>NaN</td>\n",
       "      <td>NaN</td>\n",
       "      <td>NaN</td>\n",
       "      <td>NaN</td>\n",
       "      <td>NaN</td>\n",
       "    </tr>\n",
       "    <tr>\n",
       "      <th>4</th>\n",
       "      <td>127.0.0.1:5000</td>\n",
       "      <td>Mozilla/5.0 (Windows NT 6.1; WOW64; rv:40.0) G...</td>\n",
       "      <td>gzip, deflate, br</td>\n",
       "      <td>*/*</td>\n",
       "      <td>keep-alive</td>\n",
       "      <td>en-US,en;q=0.9,he;q=0.8</td>\n",
       "      <td>none</td>\n",
       "      <td>websocket</td>\n",
       "      <td>?1</td>\n",
       "      <td>document</td>\n",
       "      <td>['ck=DBFNGnjseloXLj_cxqJe3QTz-J1XS4kaCpMWDl60G...</td>\n",
       "      <td>Fri, 11 Nov 2022 03:05:42 GMT</td>\n",
       "      <td>GET</td>\n",
       "      <td>http://127.0.0.1:5000/orders/get/ship_via/10642</td>\n",
       "      <td></td>\n",
       "      <td>404 NOT FOUND</td>\n",
       "      <td>application/json</td>\n",
       "      <td>36</td>\n",
       "      <td>404</td>\n",
       "      <td>{\"error\": \"Ship VIA not found\"}</td>\n",
       "      <td>NaN</td>\n",
       "      <td>NaN</td>\n",
       "      <td>NaN</td>\n",
       "      <td>NaN</td>\n",
       "      <td>NaN</td>\n",
       "    </tr>\n",
       "    <tr>\n",
       "      <th>...</th>\n",
       "      <td>...</td>\n",
       "      <td>...</td>\n",
       "      <td>...</td>\n",
       "      <td>...</td>\n",
       "      <td>...</td>\n",
       "      <td>...</td>\n",
       "      <td>...</td>\n",
       "      <td>...</td>\n",
       "      <td>...</td>\n",
       "      <td>...</td>\n",
       "      <td>...</td>\n",
       "      <td>...</td>\n",
       "      <td>...</td>\n",
       "      <td>...</td>\n",
       "      <td>...</td>\n",
       "      <td>...</td>\n",
       "      <td>...</td>\n",
       "      <td>...</td>\n",
       "      <td>...</td>\n",
       "      <td>...</td>\n",
       "      <td>...</td>\n",
       "      <td>...</td>\n",
       "      <td>...</td>\n",
       "      <td>...</td>\n",
       "      <td>...</td>\n",
       "    </tr>\n",
       "    <tr>\n",
       "      <th>127495</th>\n",
       "      <td>127.0.0.1:5000</td>\n",
       "      <td>Mozilla/5.0 (Windows NT 6.1; WOW64) AppleWebKi...</td>\n",
       "      <td>gzip, deflate, br</td>\n",
       "      <td>*/*</td>\n",
       "      <td>keep-alive</td>\n",
       "      <td>en-US,en;q=0.5</td>\n",
       "      <td>none</td>\n",
       "      <td>websocket</td>\n",
       "      <td>?1</td>\n",
       "      <td>document</td>\n",
       "      <td>['ck=ubWnuAa4wIHnDTz0Su8AYWJAM7fUMCps6AxyNzFok...</td>\n",
       "      <td>Fri, 11 Nov 2022 02:57:49 GMT</td>\n",
       "      <td>GET</td>\n",
       "      <td>http://127.0.0.1:5000/orders/get/employee_id/5482</td>\n",
       "      <td></td>\n",
       "      <td>404 NOT FOUND</td>\n",
       "      <td>application/json</td>\n",
       "      <td>39</td>\n",
       "      <td>404</td>\n",
       "      <td>{\"error\": \"Employee ID not found\"}</td>\n",
       "      <td>NaN</td>\n",
       "      <td>NaN</td>\n",
       "      <td>NaN</td>\n",
       "      <td>NaN</td>\n",
       "      <td>NaN</td>\n",
       "    </tr>\n",
       "    <tr>\n",
       "      <th>127496</th>\n",
       "      <td>127.0.0.1:5000</td>\n",
       "      <td>Mozilla/5.0 (Windows NT 6.1; WOW64; rv:40.0) G...</td>\n",
       "      <td>gzip, deflate, br</td>\n",
       "      <td>*/*</td>\n",
       "      <td>keep-alive</td>\n",
       "      <td>de</td>\n",
       "      <td>none</td>\n",
       "      <td>websocket</td>\n",
       "      <td>?1</td>\n",
       "      <td>document</td>\n",
       "      <td>['ck=SkLWkaUE83sP38c3kf-XYBCKlSlSmBTQSEJw6EaMg...</td>\n",
       "      <td>Fri, 11 Nov 2022 02:56:21 GMT</td>\n",
       "      <td>GET</td>\n",
       "      <td>http://127.0.0.1:5000/post/new/</td>\n",
       "      <td></td>\n",
       "      <td>200 OK</td>\n",
       "      <td>text/html; charset=utf-8</td>\n",
       "      <td>70</td>\n",
       "      <td>200</td>\n",
       "      <td>&lt;form method='POST'&gt;&lt;input name='message'&gt;&lt;inp...</td>\n",
       "      <td>NaN</td>\n",
       "      <td>NaN</td>\n",
       "      <td>NaN</td>\n",
       "      <td>NaN</td>\n",
       "      <td>NaN</td>\n",
       "    </tr>\n",
       "    <tr>\n",
       "      <th>127497</th>\n",
       "      <td>127.0.0.1:5000</td>\n",
       "      <td>Mozilla/5.0 (Windows NT 6.1; Win64; x64; rv:25...</td>\n",
       "      <td>gzip, deflate, br</td>\n",
       "      <td>*/*</td>\n",
       "      <td>keep-alive</td>\n",
       "      <td>de</td>\n",
       "      <td>none</td>\n",
       "      <td>websocket</td>\n",
       "      <td>?1</td>\n",
       "      <td>document</td>\n",
       "      <td>['ck=giYaDJkC2Oa-rCmlAvYglQzy_Em-YHTv_5aOjposX...</td>\n",
       "      <td>Fri, 11 Nov 2022 02:49:37 GMT</td>\n",
       "      <td>GET</td>\n",
       "      <td>http://127.0.0.1:5000/post/new/</td>\n",
       "      <td></td>\n",
       "      <td>200 OK</td>\n",
       "      <td>text/html; charset=utf-8</td>\n",
       "      <td>70</td>\n",
       "      <td>200</td>\n",
       "      <td>&lt;form method='POST'&gt;&lt;input name='message'&gt;&lt;inp...</td>\n",
       "      <td>NaN</td>\n",
       "      <td>NaN</td>\n",
       "      <td>NaN</td>\n",
       "      <td>NaN</td>\n",
       "      <td>NaN</td>\n",
       "    </tr>\n",
       "    <tr>\n",
       "      <th>127498</th>\n",
       "      <td>127.0.0.1:5000</td>\n",
       "      <td>Mozilla/5.0 (X11; Ubuntu; Linux x86_64; rv:24....</td>\n",
       "      <td>gzip, deflate, br</td>\n",
       "      <td>*/*</td>\n",
       "      <td>keep-alive</td>\n",
       "      <td>de-CH</td>\n",
       "      <td>none</td>\n",
       "      <td>websocket</td>\n",
       "      <td>?1</td>\n",
       "      <td>document</td>\n",
       "      <td>['ck=VzOU9Ac91LxJ8UAvQ8Wt3c5Ua-30j4s9kcdTKrwCw...</td>\n",
       "      <td>Fri, 11 Nov 2022 02:47:43 GMT</td>\n",
       "      <td>GET</td>\n",
       "      <td>http://127.0.0.1:5000/orders/get/country/8599</td>\n",
       "      <td></td>\n",
       "      <td>404 NOT FOUND</td>\n",
       "      <td>text/html; charset=utf-8</td>\n",
       "      <td>207</td>\n",
       "      <td>404</td>\n",
       "      <td>&lt;!doctype html&gt;\\n&lt;html lang=en&gt;\\n&lt;title&gt;404 No...</td>\n",
       "      <td>NaN</td>\n",
       "      <td>NaN</td>\n",
       "      <td>NaN</td>\n",
       "      <td>NaN</td>\n",
       "      <td>NaN</td>\n",
       "    </tr>\n",
       "    <tr>\n",
       "      <th>127499</th>\n",
       "      <td>127.0.0.1:5000</td>\n",
       "      <td>Mozilla/5.0 (X11; Ubuntu; Linux x86_64; rv:24....</td>\n",
       "      <td>gzip, deflate, br</td>\n",
       "      <td>*/*</td>\n",
       "      <td>keep-alive</td>\n",
       "      <td>de-CH</td>\n",
       "      <td>none</td>\n",
       "      <td>same-origin</td>\n",
       "      <td>?1</td>\n",
       "      <td>document</td>\n",
       "      <td>['ck=0w5tjJLrrO3gkGZJQTSj2ryTjSiI2Dv-VPIdQfN1N...</td>\n",
       "      <td>Fri, 11 Nov 2022 03:10:46 GMT</td>\n",
       "      <td>GET</td>\n",
       "      <td>http://127.0.0.1:5000/about/greet</td>\n",
       "      <td></td>\n",
       "      <td>200 OK</td>\n",
       "      <td>text/html; charset=utf-8</td>\n",
       "      <td>350</td>\n",
       "      <td>200</td>\n",
       "      <td>&lt;p&gt;To start the challenge, first head over to ...</td>\n",
       "      <td>NaN</td>\n",
       "      <td>NaN</td>\n",
       "      <td>NaN</td>\n",
       "      <td>NaN</td>\n",
       "      <td>NaN</td>\n",
       "    </tr>\n",
       "  </tbody>\n",
       "</table>\n",
       "<p>127500 rows × 25 columns</p>\n",
       "</div>"
      ]
     },
     "metadata": {},
     "output_type": "display_data"
    }
   ],
   "source": [
    "# Imports, settings and first dataset view\n",
    "import pandas as pd\n",
    "import seaborn as sns\n",
    "import numpy as np\n",
    "import json\n",
    "\n",
    "from sklearn.feature_extraction.text import CountVectorizer, HashingVectorizer\n",
    "from sklearn.preprocessing import LabelEncoder\n",
    "from sklearn.model_selection import train_test_split\n",
    "from sklearn.ensemble import RandomForestClassifier\n",
    "from sklearn.metrics import confusion_matrix, classification_report, accuracy_score\n",
    "from collections import Counter\n",
    "\n",
    "# Set pandas to show all columns when you print a dataframe\n",
    "pd.set_option('display.max_columns', None)\n",
    "\n",
    "# Global setting here you choose the dataset number and classification type for the model\n",
    "dataset_number = 2  # Options are [1, 2, 3, 4]\n",
    "test_type = 'label'  # Options are ['label', 'attack_type']\n",
    "\n",
    "# Read the json and read it to a pandas dataframe object, you can change these settings\n",
    "with open(f'combined_datasets_for_students/dataset_{str(dataset_number)}_train.json') as file:\n",
    "    raw_ds = json.load(file)\n",
    "df = pd.json_normalize(raw_ds, max_level=2)\n",
    "\n",
    "# Shoe the first five lines of the dataframe to see if everything was read accordingly \n",
    "df"
   ]
  },
  {
   "cell_type": "markdown",
   "metadata": {
    "datalore": {
     "hide_input_from_viewers": false,
     "hide_output_from_viewers": false,
     "node_id": "nAhnN1JHhl8KqSwCj3069d",
     "report_properties": {
      "y": 35
     },
     "type": "MD"
    }
   },
   "source": [
    "**# open the dataset file**"
   ]
  },
  {
   "cell_type": "code",
   "execution_count": 27,
   "metadata": {
    "datalore": {
     "hide_input_from_viewers": false,
     "hide_output_from_viewers": false,
     "node_id": "KKySQIFlD2OedMLd9O5bto",
     "report_properties": {
      "y": 38
     },
     "type": "CODE"
    }
   },
   "outputs": [
    {
     "data": {
      "text/html": [
       "<div>\n",
       "<style scoped>\n",
       "    .dataframe tbody tr th:only-of-type {\n",
       "        vertical-align: middle;\n",
       "    }\n",
       "\n",
       "    .dataframe tbody tr th {\n",
       "        vertical-align: top;\n",
       "    }\n",
       "\n",
       "    .dataframe thead th {\n",
       "        text-align: right;\n",
       "    }\n",
       "</style>\n",
       "<table border=\"1\" class=\"dataframe\">\n",
       "  <thead>\n",
       "    <tr style=\"text-align: right;\">\n",
       "      <th></th>\n",
       "      <th>request.headers.Host</th>\n",
       "      <th>request.headers.User-Agent</th>\n",
       "      <th>request.headers.Accept-Encoding</th>\n",
       "      <th>request.headers.Accept</th>\n",
       "      <th>request.headers.Connection</th>\n",
       "      <th>request.headers.Accept-Language</th>\n",
       "      <th>request.headers.Sec-Fetch-Site</th>\n",
       "      <th>request.headers.Sec-Fetch-Mode</th>\n",
       "      <th>request.headers.Sec-Fetch-User</th>\n",
       "      <th>request.headers.Sec-Fetch-Dest</th>\n",
       "      <th>request.headers.Set-Cookie</th>\n",
       "      <th>request.headers.Date</th>\n",
       "      <th>request.method</th>\n",
       "      <th>request.url</th>\n",
       "      <th>request.body</th>\n",
       "      <th>response.status</th>\n",
       "      <th>response.headers.Content-Type</th>\n",
       "      <th>response.headers.Content-Length</th>\n",
       "      <th>response.status_code</th>\n",
       "      <th>response.body</th>\n",
       "      <th>response.headers.Location</th>\n",
       "      <th>request.headers.Cookie</th>\n",
       "      <th>request.headers.Content-Length</th>\n",
       "      <th>response.headers.Set-Cookie</th>\n",
       "      <th>attack_type</th>\n",
       "      <th>label</th>\n",
       "    </tr>\n",
       "  </thead>\n",
       "  <tbody>\n",
       "    <tr>\n",
       "      <th>0</th>\n",
       "      <td>127.0.0.1:5000</td>\n",
       "      <td>Mozilla/5.0 (Windows NT 5.1; rv:31.0) Gecko/20...</td>\n",
       "      <td>gzip, deflate, br</td>\n",
       "      <td>*/*</td>\n",
       "      <td>keep-alive</td>\n",
       "      <td>de-CH</td>\n",
       "      <td>none</td>\n",
       "      <td>same-origin</td>\n",
       "      <td>?1</td>\n",
       "      <td>document</td>\n",
       "      <td>['ck=w6oM9XV_jvWjuuVd3hLe3eSdXXPydbyfsLwTlj4Mc...</td>\n",
       "      <td>Fri, 11 Nov 2022 03:12:09 GMT</td>\n",
       "      <td>GET</td>\n",
       "      <td>http://127.0.0.1:5000/static/download_txt/7115</td>\n",
       "      <td></td>\n",
       "      <td>404 NOT FOUND</td>\n",
       "      <td>application/json</td>\n",
       "      <td>32</td>\n",
       "      <td>404</td>\n",
       "      <td>{\"error\": \"File not found\"}</td>\n",
       "      <td>NaN</td>\n",
       "      <td>NaN</td>\n",
       "      <td>NaN</td>\n",
       "      <td>NaN</td>\n",
       "      <td>Benign</td>\n",
       "      <td>Benign</td>\n",
       "    </tr>\n",
       "    <tr>\n",
       "      <th>1</th>\n",
       "      <td>127.0.0.1:5000</td>\n",
       "      <td>Mozilla/5.0 (X11; Linux x86_64) AppleWebKit/53...</td>\n",
       "      <td>gzip, deflate, br</td>\n",
       "      <td>*/*</td>\n",
       "      <td>keep-alive</td>\n",
       "      <td>en-US,en;q=0.9,he;q=0.8</td>\n",
       "      <td>none</td>\n",
       "      <td>same-origin</td>\n",
       "      <td>?1</td>\n",
       "      <td>document</td>\n",
       "      <td>['ck=c8uOUXcCTGAn3VPZ7KkmjeGl7T4m7z5hvteH_e4NP...</td>\n",
       "      <td>Fri, 11 Nov 2022 03:01:18 GMT</td>\n",
       "      <td>GET</td>\n",
       "      <td>http://127.0.0.1:5000/about/random_page</td>\n",
       "      <td></td>\n",
       "      <td>200 OK</td>\n",
       "      <td>text/html; charset=utf-8</td>\n",
       "      <td>1163</td>\n",
       "      <td>200</td>\n",
       "      <td>&lt;figure&gt;&lt;img src=\"https://img-c.udemycdn.com/r...</td>\n",
       "      <td>NaN</td>\n",
       "      <td>NaN</td>\n",
       "      <td>NaN</td>\n",
       "      <td>NaN</td>\n",
       "      <td>Benign</td>\n",
       "      <td>Benign</td>\n",
       "    </tr>\n",
       "    <tr>\n",
       "      <th>2</th>\n",
       "      <td>127.0.0.1:5000</td>\n",
       "      <td>Mozilla/5.0 (Windows NT 6.1; WOW64; rv:31.0) G...</td>\n",
       "      <td>gzip, deflate, br</td>\n",
       "      <td>*/*</td>\n",
       "      <td>keep-alive</td>\n",
       "      <td>de-CH</td>\n",
       "      <td>none</td>\n",
       "      <td>websocket</td>\n",
       "      <td>?1</td>\n",
       "      <td>document</td>\n",
       "      <td>['ck=RKquq_BCt65ARAQ2BjFcYW58e4Hr_JMvmHA71wfu8...</td>\n",
       "      <td>Fri, 11 Nov 2022 03:01:17 GMT</td>\n",
       "      <td>GET</td>\n",
       "      <td>http://127.0.0.1:5000/categories/check/all</td>\n",
       "      <td></td>\n",
       "      <td>200 OK</td>\n",
       "      <td>application/json</td>\n",
       "      <td>1112</td>\n",
       "      <td>200</td>\n",
       "      <td>[{\"category_id\": \"1\", \"category_name\": \"Bevera...</td>\n",
       "      <td>NaN</td>\n",
       "      <td>NaN</td>\n",
       "      <td>NaN</td>\n",
       "      <td>NaN</td>\n",
       "      <td>Benign</td>\n",
       "      <td>Benign</td>\n",
       "    </tr>\n",
       "    <tr>\n",
       "      <th>3</th>\n",
       "      <td>127.0.0.1:5000</td>\n",
       "      <td>Mozilla/5.0 (Macintosh; Intel Mac OS X 10_10_1...</td>\n",
       "      <td>gzip, deflate, br</td>\n",
       "      <td>*/*</td>\n",
       "      <td>keep-alive</td>\n",
       "      <td>en-US,en;q=0.5</td>\n",
       "      <td>none</td>\n",
       "      <td>same-origin</td>\n",
       "      <td>?1</td>\n",
       "      <td>document</td>\n",
       "      <td>['ck=RhHVh7pmM73Qp434tecicojVb27D_OtIVbYPqWaqj...</td>\n",
       "      <td>Fri, 11 Nov 2022 02:40:48 GMT</td>\n",
       "      <td>GET</td>\n",
       "      <td>http://127.0.0.1:5000/states/5911</td>\n",
       "      <td></td>\n",
       "      <td>404 NOT FOUND</td>\n",
       "      <td>application/json</td>\n",
       "      <td>33</td>\n",
       "      <td>404</td>\n",
       "      <td>{\"error\": \"State not found\"}</td>\n",
       "      <td>NaN</td>\n",
       "      <td>NaN</td>\n",
       "      <td>NaN</td>\n",
       "      <td>NaN</td>\n",
       "      <td>Benign</td>\n",
       "      <td>Benign</td>\n",
       "    </tr>\n",
       "    <tr>\n",
       "      <th>4</th>\n",
       "      <td>127.0.0.1:5000</td>\n",
       "      <td>Mozilla/5.0 (Windows NT 6.1; WOW64; rv:40.0) G...</td>\n",
       "      <td>gzip, deflate, br</td>\n",
       "      <td>*/*</td>\n",
       "      <td>keep-alive</td>\n",
       "      <td>en-US,en;q=0.9,he;q=0.8</td>\n",
       "      <td>none</td>\n",
       "      <td>websocket</td>\n",
       "      <td>?1</td>\n",
       "      <td>document</td>\n",
       "      <td>['ck=DBFNGnjseloXLj_cxqJe3QTz-J1XS4kaCpMWDl60G...</td>\n",
       "      <td>Fri, 11 Nov 2022 03:05:42 GMT</td>\n",
       "      <td>GET</td>\n",
       "      <td>http://127.0.0.1:5000/orders/get/ship_via/10642</td>\n",
       "      <td></td>\n",
       "      <td>404 NOT FOUND</td>\n",
       "      <td>application/json</td>\n",
       "      <td>36</td>\n",
       "      <td>404</td>\n",
       "      <td>{\"error\": \"Ship VIA not found\"}</td>\n",
       "      <td>NaN</td>\n",
       "      <td>NaN</td>\n",
       "      <td>NaN</td>\n",
       "      <td>NaN</td>\n",
       "      <td>Benign</td>\n",
       "      <td>Benign</td>\n",
       "    </tr>\n",
       "    <tr>\n",
       "      <th>...</th>\n",
       "      <td>...</td>\n",
       "      <td>...</td>\n",
       "      <td>...</td>\n",
       "      <td>...</td>\n",
       "      <td>...</td>\n",
       "      <td>...</td>\n",
       "      <td>...</td>\n",
       "      <td>...</td>\n",
       "      <td>...</td>\n",
       "      <td>...</td>\n",
       "      <td>...</td>\n",
       "      <td>...</td>\n",
       "      <td>...</td>\n",
       "      <td>...</td>\n",
       "      <td>...</td>\n",
       "      <td>...</td>\n",
       "      <td>...</td>\n",
       "      <td>...</td>\n",
       "      <td>...</td>\n",
       "      <td>...</td>\n",
       "      <td>...</td>\n",
       "      <td>...</td>\n",
       "      <td>...</td>\n",
       "      <td>...</td>\n",
       "      <td>...</td>\n",
       "      <td>...</td>\n",
       "    </tr>\n",
       "    <tr>\n",
       "      <th>127495</th>\n",
       "      <td>127.0.0.1:5000</td>\n",
       "      <td>Mozilla/5.0 (Windows NT 6.1; WOW64) AppleWebKi...</td>\n",
       "      <td>gzip, deflate, br</td>\n",
       "      <td>*/*</td>\n",
       "      <td>keep-alive</td>\n",
       "      <td>en-US,en;q=0.5</td>\n",
       "      <td>none</td>\n",
       "      <td>websocket</td>\n",
       "      <td>?1</td>\n",
       "      <td>document</td>\n",
       "      <td>['ck=ubWnuAa4wIHnDTz0Su8AYWJAM7fUMCps6AxyNzFok...</td>\n",
       "      <td>Fri, 11 Nov 2022 02:57:49 GMT</td>\n",
       "      <td>GET</td>\n",
       "      <td>http://127.0.0.1:5000/orders/get/employee_id/5482</td>\n",
       "      <td></td>\n",
       "      <td>404 NOT FOUND</td>\n",
       "      <td>application/json</td>\n",
       "      <td>39</td>\n",
       "      <td>404</td>\n",
       "      <td>{\"error\": \"Employee ID not found\"}</td>\n",
       "      <td>NaN</td>\n",
       "      <td>NaN</td>\n",
       "      <td>NaN</td>\n",
       "      <td>NaN</td>\n",
       "      <td>Benign</td>\n",
       "      <td>Benign</td>\n",
       "    </tr>\n",
       "    <tr>\n",
       "      <th>127496</th>\n",
       "      <td>127.0.0.1:5000</td>\n",
       "      <td>Mozilla/5.0 (Windows NT 6.1; WOW64; rv:40.0) G...</td>\n",
       "      <td>gzip, deflate, br</td>\n",
       "      <td>*/*</td>\n",
       "      <td>keep-alive</td>\n",
       "      <td>de</td>\n",
       "      <td>none</td>\n",
       "      <td>websocket</td>\n",
       "      <td>?1</td>\n",
       "      <td>document</td>\n",
       "      <td>['ck=SkLWkaUE83sP38c3kf-XYBCKlSlSmBTQSEJw6EaMg...</td>\n",
       "      <td>Fri, 11 Nov 2022 02:56:21 GMT</td>\n",
       "      <td>GET</td>\n",
       "      <td>http://127.0.0.1:5000/post/new/</td>\n",
       "      <td></td>\n",
       "      <td>200 OK</td>\n",
       "      <td>text/html; charset=utf-8</td>\n",
       "      <td>70</td>\n",
       "      <td>200</td>\n",
       "      <td>&lt;form method='POST'&gt;&lt;input name='message'&gt;&lt;inp...</td>\n",
       "      <td>NaN</td>\n",
       "      <td>NaN</td>\n",
       "      <td>NaN</td>\n",
       "      <td>NaN</td>\n",
       "      <td>Benign</td>\n",
       "      <td>Benign</td>\n",
       "    </tr>\n",
       "    <tr>\n",
       "      <th>127497</th>\n",
       "      <td>127.0.0.1:5000</td>\n",
       "      <td>Mozilla/5.0 (Windows NT 6.1; Win64; x64; rv:25...</td>\n",
       "      <td>gzip, deflate, br</td>\n",
       "      <td>*/*</td>\n",
       "      <td>keep-alive</td>\n",
       "      <td>de</td>\n",
       "      <td>none</td>\n",
       "      <td>websocket</td>\n",
       "      <td>?1</td>\n",
       "      <td>document</td>\n",
       "      <td>['ck=giYaDJkC2Oa-rCmlAvYglQzy_Em-YHTv_5aOjposX...</td>\n",
       "      <td>Fri, 11 Nov 2022 02:49:37 GMT</td>\n",
       "      <td>GET</td>\n",
       "      <td>http://127.0.0.1:5000/post/new/</td>\n",
       "      <td></td>\n",
       "      <td>200 OK</td>\n",
       "      <td>text/html; charset=utf-8</td>\n",
       "      <td>70</td>\n",
       "      <td>200</td>\n",
       "      <td>&lt;form method='POST'&gt;&lt;input name='message'&gt;&lt;inp...</td>\n",
       "      <td>NaN</td>\n",
       "      <td>NaN</td>\n",
       "      <td>NaN</td>\n",
       "      <td>NaN</td>\n",
       "      <td>Benign</td>\n",
       "      <td>Benign</td>\n",
       "    </tr>\n",
       "    <tr>\n",
       "      <th>127498</th>\n",
       "      <td>127.0.0.1:5000</td>\n",
       "      <td>Mozilla/5.0 (X11; Ubuntu; Linux x86_64; rv:24....</td>\n",
       "      <td>gzip, deflate, br</td>\n",
       "      <td>*/*</td>\n",
       "      <td>keep-alive</td>\n",
       "      <td>de-CH</td>\n",
       "      <td>none</td>\n",
       "      <td>websocket</td>\n",
       "      <td>?1</td>\n",
       "      <td>document</td>\n",
       "      <td>['ck=VzOU9Ac91LxJ8UAvQ8Wt3c5Ua-30j4s9kcdTKrwCw...</td>\n",
       "      <td>Fri, 11 Nov 2022 02:47:43 GMT</td>\n",
       "      <td>GET</td>\n",
       "      <td>http://127.0.0.1:5000/orders/get/country/8599</td>\n",
       "      <td></td>\n",
       "      <td>404 NOT FOUND</td>\n",
       "      <td>text/html; charset=utf-8</td>\n",
       "      <td>207</td>\n",
       "      <td>404</td>\n",
       "      <td>&lt;!doctype html&gt;\\n&lt;html lang=en&gt;\\n&lt;title&gt;404 No...</td>\n",
       "      <td>NaN</td>\n",
       "      <td>NaN</td>\n",
       "      <td>NaN</td>\n",
       "      <td>NaN</td>\n",
       "      <td>Benign</td>\n",
       "      <td>Benign</td>\n",
       "    </tr>\n",
       "    <tr>\n",
       "      <th>127499</th>\n",
       "      <td>127.0.0.1:5000</td>\n",
       "      <td>Mozilla/5.0 (X11; Ubuntu; Linux x86_64; rv:24....</td>\n",
       "      <td>gzip, deflate, br</td>\n",
       "      <td>*/*</td>\n",
       "      <td>keep-alive</td>\n",
       "      <td>de-CH</td>\n",
       "      <td>none</td>\n",
       "      <td>same-origin</td>\n",
       "      <td>?1</td>\n",
       "      <td>document</td>\n",
       "      <td>['ck=0w5tjJLrrO3gkGZJQTSj2ryTjSiI2Dv-VPIdQfN1N...</td>\n",
       "      <td>Fri, 11 Nov 2022 03:10:46 GMT</td>\n",
       "      <td>GET</td>\n",
       "      <td>http://127.0.0.1:5000/about/greet</td>\n",
       "      <td></td>\n",
       "      <td>200 OK</td>\n",
       "      <td>text/html; charset=utf-8</td>\n",
       "      <td>350</td>\n",
       "      <td>200</td>\n",
       "      <td>&lt;p&gt;To start the challenge, first head over to ...</td>\n",
       "      <td>NaN</td>\n",
       "      <td>NaN</td>\n",
       "      <td>NaN</td>\n",
       "      <td>NaN</td>\n",
       "      <td>Benign</td>\n",
       "      <td>Benign</td>\n",
       "    </tr>\n",
       "  </tbody>\n",
       "</table>\n",
       "<p>127500 rows × 26 columns</p>\n",
       "</div>"
      ]
     },
     "metadata": {},
     "output_type": "display_data"
    }
   ],
   "source": [
    "# Fill the black attack tag lines with \"Benign\" string\n",
    "df['request.Attack_Tag'] = df['request.Attack_Tag'].fillna('Benign')\n",
    "df['attack_type'] = df['request.Attack_Tag']\n",
    "\n",
    "\n",
    "# This function will be used in the lambda below to iterate over the label columns \n",
    "# You can use this snippet to run your own lambda on any data with the apply() method\n",
    "def categorize(row):\n",
    "    if row['request.Attack_Tag'] == 'Benign':\n",
    "        return 'Benign'\n",
    "    return 'Malware'\n",
    "\n",
    "\n",
    "df['label'] = df.apply(lambda row: categorize(row), axis=1)\n",
    "\n",
    "# After finishing the arrangements we delete the irrelevant column\n",
    "df.drop('request.Attack_Tag', axis=1, inplace=True)\n",
    "\n",
    "df"
   ]
  },
  {
   "cell_type": "markdown",
   "metadata": {
    "datalore": {
     "hide_input_from_viewers": false,
     "hide_output_from_viewers": false,
     "node_id": "tdM9GACBiwMAtztbkoYUOr",
     "report_properties": {
      "y": 66
     },
     "type": "MD"
    }
   },
   "source": [
    "**############## Basic dataset label arrangements ###############**"
   ]
  },
  {
   "cell_type": "code",
   "execution_count": 28,
   "metadata": {
    "datalore": {
     "hide_input_from_viewers": false,
     "hide_output_from_viewers": false,
     "node_id": "BQEMI5TBfZstsmYbv1mA5X",
     "report_properties": {
      "y": 69
     },
     "type": "CODE"
    }
   },
   "outputs": [
    {
     "data": {
      "text/html": [
       "<div>\n",
       "<style scoped>\n",
       "    .dataframe tbody tr th:only-of-type {\n",
       "        vertical-align: middle;\n",
       "    }\n",
       "\n",
       "    .dataframe tbody tr th {\n",
       "        vertical-align: top;\n",
       "    }\n",
       "\n",
       "    .dataframe thead th {\n",
       "        text-align: right;\n",
       "    }\n",
       "</style>\n",
       "<table border=\"1\" class=\"dataframe\">\n",
       "  <thead>\n",
       "    <tr style=\"text-align: right;\">\n",
       "      <th></th>\n",
       "      <th>request.headers.Host</th>\n",
       "      <th>request.headers.User-Agent</th>\n",
       "      <th>request.headers.Accept-Encoding</th>\n",
       "      <th>request.headers.Accept</th>\n",
       "      <th>request.headers.Connection</th>\n",
       "      <th>request.headers.Accept-Language</th>\n",
       "      <th>request.headers.Sec-Fetch-Site</th>\n",
       "      <th>request.headers.Sec-Fetch-Mode</th>\n",
       "      <th>request.headers.Sec-Fetch-User</th>\n",
       "      <th>request.headers.Sec-Fetch-Dest</th>\n",
       "      <th>request.headers.Set-Cookie</th>\n",
       "      <th>request.headers.Date</th>\n",
       "      <th>request.method</th>\n",
       "      <th>request.url</th>\n",
       "      <th>request.body</th>\n",
       "      <th>response.status</th>\n",
       "      <th>response.headers.Content-Type</th>\n",
       "      <th>response.headers.Content-Length</th>\n",
       "      <th>response.status_code</th>\n",
       "      <th>response.body</th>\n",
       "      <th>response.headers.Location</th>\n",
       "      <th>request.headers.Cookie</th>\n",
       "      <th>request.headers.Content-Length</th>\n",
       "      <th>response.headers.Set-Cookie</th>\n",
       "      <th>attack_type</th>\n",
       "      <th>label</th>\n",
       "    </tr>\n",
       "  </thead>\n",
       "  <tbody>\n",
       "    <tr>\n",
       "      <th>0</th>\n",
       "      <td>127.0.0.1:5000</td>\n",
       "      <td>Mozilla/5.0 (Windows NT 5.1; rv:31.0) Gecko/20...</td>\n",
       "      <td>gzip, deflate, br</td>\n",
       "      <td>*/*</td>\n",
       "      <td>keep-alive</td>\n",
       "      <td>de-CH</td>\n",
       "      <td>none</td>\n",
       "      <td>same-origin</td>\n",
       "      <td>?1</td>\n",
       "      <td>document</td>\n",
       "      <td>['ck=w6oM9XV_jvWjuuVd3hLe3eSdXXPydbyfsLwTlj4Mc...</td>\n",
       "      <td>Fri, 11 Nov 2022 03:12:09 GMT</td>\n",
       "      <td>GET</td>\n",
       "      <td>http://127.0.0.1:5000/static/download_txt/7115</td>\n",
       "      <td></td>\n",
       "      <td>404 NOT FOUND</td>\n",
       "      <td>application/json</td>\n",
       "      <td>32</td>\n",
       "      <td>404</td>\n",
       "      <td>{\"error\": \"File not found\"}</td>\n",
       "      <td>None</td>\n",
       "      <td>None</td>\n",
       "      <td>None</td>\n",
       "      <td>None</td>\n",
       "      <td>Benign</td>\n",
       "      <td>Benign</td>\n",
       "    </tr>\n",
       "    <tr>\n",
       "      <th>1</th>\n",
       "      <td>127.0.0.1:5000</td>\n",
       "      <td>Mozilla/5.0 (X11; Linux x86_64) AppleWebKit/53...</td>\n",
       "      <td>gzip, deflate, br</td>\n",
       "      <td>*/*</td>\n",
       "      <td>keep-alive</td>\n",
       "      <td>en-US,en;q=0.9,he;q=0.8</td>\n",
       "      <td>none</td>\n",
       "      <td>same-origin</td>\n",
       "      <td>?1</td>\n",
       "      <td>document</td>\n",
       "      <td>['ck=c8uOUXcCTGAn3VPZ7KkmjeGl7T4m7z5hvteH_e4NP...</td>\n",
       "      <td>Fri, 11 Nov 2022 03:01:18 GMT</td>\n",
       "      <td>GET</td>\n",
       "      <td>http://127.0.0.1:5000/about/random_page</td>\n",
       "      <td></td>\n",
       "      <td>200 OK</td>\n",
       "      <td>text/html; charset=utf-8</td>\n",
       "      <td>1163</td>\n",
       "      <td>200</td>\n",
       "      <td>&lt;figure&gt;&lt;img src=\"https://img-c.udemycdn.com/r...</td>\n",
       "      <td>None</td>\n",
       "      <td>None</td>\n",
       "      <td>None</td>\n",
       "      <td>None</td>\n",
       "      <td>Benign</td>\n",
       "      <td>Benign</td>\n",
       "    </tr>\n",
       "    <tr>\n",
       "      <th>2</th>\n",
       "      <td>127.0.0.1:5000</td>\n",
       "      <td>Mozilla/5.0 (Windows NT 6.1; WOW64; rv:31.0) G...</td>\n",
       "      <td>gzip, deflate, br</td>\n",
       "      <td>*/*</td>\n",
       "      <td>keep-alive</td>\n",
       "      <td>de-CH</td>\n",
       "      <td>none</td>\n",
       "      <td>websocket</td>\n",
       "      <td>?1</td>\n",
       "      <td>document</td>\n",
       "      <td>['ck=RKquq_BCt65ARAQ2BjFcYW58e4Hr_JMvmHA71wfu8...</td>\n",
       "      <td>Fri, 11 Nov 2022 03:01:17 GMT</td>\n",
       "      <td>GET</td>\n",
       "      <td>http://127.0.0.1:5000/categories/check/all</td>\n",
       "      <td></td>\n",
       "      <td>200 OK</td>\n",
       "      <td>application/json</td>\n",
       "      <td>1112</td>\n",
       "      <td>200</td>\n",
       "      <td>[{\"category_id\": \"1\", \"category_name\": \"Bevera...</td>\n",
       "      <td>None</td>\n",
       "      <td>None</td>\n",
       "      <td>None</td>\n",
       "      <td>None</td>\n",
       "      <td>Benign</td>\n",
       "      <td>Benign</td>\n",
       "    </tr>\n",
       "    <tr>\n",
       "      <th>3</th>\n",
       "      <td>127.0.0.1:5000</td>\n",
       "      <td>Mozilla/5.0 (Macintosh; Intel Mac OS X 10_10_1...</td>\n",
       "      <td>gzip, deflate, br</td>\n",
       "      <td>*/*</td>\n",
       "      <td>keep-alive</td>\n",
       "      <td>en-US,en;q=0.5</td>\n",
       "      <td>none</td>\n",
       "      <td>same-origin</td>\n",
       "      <td>?1</td>\n",
       "      <td>document</td>\n",
       "      <td>['ck=RhHVh7pmM73Qp434tecicojVb27D_OtIVbYPqWaqj...</td>\n",
       "      <td>Fri, 11 Nov 2022 02:40:48 GMT</td>\n",
       "      <td>GET</td>\n",
       "      <td>http://127.0.0.1:5000/states/5911</td>\n",
       "      <td></td>\n",
       "      <td>404 NOT FOUND</td>\n",
       "      <td>application/json</td>\n",
       "      <td>33</td>\n",
       "      <td>404</td>\n",
       "      <td>{\"error\": \"State not found\"}</td>\n",
       "      <td>None</td>\n",
       "      <td>None</td>\n",
       "      <td>None</td>\n",
       "      <td>None</td>\n",
       "      <td>Benign</td>\n",
       "      <td>Benign</td>\n",
       "    </tr>\n",
       "    <tr>\n",
       "      <th>4</th>\n",
       "      <td>127.0.0.1:5000</td>\n",
       "      <td>Mozilla/5.0 (Windows NT 6.1; WOW64; rv:40.0) G...</td>\n",
       "      <td>gzip, deflate, br</td>\n",
       "      <td>*/*</td>\n",
       "      <td>keep-alive</td>\n",
       "      <td>en-US,en;q=0.9,he;q=0.8</td>\n",
       "      <td>none</td>\n",
       "      <td>websocket</td>\n",
       "      <td>?1</td>\n",
       "      <td>document</td>\n",
       "      <td>['ck=DBFNGnjseloXLj_cxqJe3QTz-J1XS4kaCpMWDl60G...</td>\n",
       "      <td>Fri, 11 Nov 2022 03:05:42 GMT</td>\n",
       "      <td>GET</td>\n",
       "      <td>http://127.0.0.1:5000/orders/get/ship_via/10642</td>\n",
       "      <td></td>\n",
       "      <td>404 NOT FOUND</td>\n",
       "      <td>application/json</td>\n",
       "      <td>36</td>\n",
       "      <td>404</td>\n",
       "      <td>{\"error\": \"Ship VIA not found\"}</td>\n",
       "      <td>None</td>\n",
       "      <td>None</td>\n",
       "      <td>None</td>\n",
       "      <td>None</td>\n",
       "      <td>Benign</td>\n",
       "      <td>Benign</td>\n",
       "    </tr>\n",
       "    <tr>\n",
       "      <th>...</th>\n",
       "      <td>...</td>\n",
       "      <td>...</td>\n",
       "      <td>...</td>\n",
       "      <td>...</td>\n",
       "      <td>...</td>\n",
       "      <td>...</td>\n",
       "      <td>...</td>\n",
       "      <td>...</td>\n",
       "      <td>...</td>\n",
       "      <td>...</td>\n",
       "      <td>...</td>\n",
       "      <td>...</td>\n",
       "      <td>...</td>\n",
       "      <td>...</td>\n",
       "      <td>...</td>\n",
       "      <td>...</td>\n",
       "      <td>...</td>\n",
       "      <td>...</td>\n",
       "      <td>...</td>\n",
       "      <td>...</td>\n",
       "      <td>...</td>\n",
       "      <td>...</td>\n",
       "      <td>...</td>\n",
       "      <td>...</td>\n",
       "      <td>...</td>\n",
       "      <td>...</td>\n",
       "    </tr>\n",
       "    <tr>\n",
       "      <th>127495</th>\n",
       "      <td>127.0.0.1:5000</td>\n",
       "      <td>Mozilla/5.0 (Windows NT 6.1; WOW64) AppleWebKi...</td>\n",
       "      <td>gzip, deflate, br</td>\n",
       "      <td>*/*</td>\n",
       "      <td>keep-alive</td>\n",
       "      <td>en-US,en;q=0.5</td>\n",
       "      <td>none</td>\n",
       "      <td>websocket</td>\n",
       "      <td>?1</td>\n",
       "      <td>document</td>\n",
       "      <td>['ck=ubWnuAa4wIHnDTz0Su8AYWJAM7fUMCps6AxyNzFok...</td>\n",
       "      <td>Fri, 11 Nov 2022 02:57:49 GMT</td>\n",
       "      <td>GET</td>\n",
       "      <td>http://127.0.0.1:5000/orders/get/employee_id/5482</td>\n",
       "      <td></td>\n",
       "      <td>404 NOT FOUND</td>\n",
       "      <td>application/json</td>\n",
       "      <td>39</td>\n",
       "      <td>404</td>\n",
       "      <td>{\"error\": \"Employee ID not found\"}</td>\n",
       "      <td>None</td>\n",
       "      <td>None</td>\n",
       "      <td>None</td>\n",
       "      <td>None</td>\n",
       "      <td>Benign</td>\n",
       "      <td>Benign</td>\n",
       "    </tr>\n",
       "    <tr>\n",
       "      <th>127496</th>\n",
       "      <td>127.0.0.1:5000</td>\n",
       "      <td>Mozilla/5.0 (Windows NT 6.1; WOW64; rv:40.0) G...</td>\n",
       "      <td>gzip, deflate, br</td>\n",
       "      <td>*/*</td>\n",
       "      <td>keep-alive</td>\n",
       "      <td>de</td>\n",
       "      <td>none</td>\n",
       "      <td>websocket</td>\n",
       "      <td>?1</td>\n",
       "      <td>document</td>\n",
       "      <td>['ck=SkLWkaUE83sP38c3kf-XYBCKlSlSmBTQSEJw6EaMg...</td>\n",
       "      <td>Fri, 11 Nov 2022 02:56:21 GMT</td>\n",
       "      <td>GET</td>\n",
       "      <td>http://127.0.0.1:5000/post/new/</td>\n",
       "      <td></td>\n",
       "      <td>200 OK</td>\n",
       "      <td>text/html; charset=utf-8</td>\n",
       "      <td>70</td>\n",
       "      <td>200</td>\n",
       "      <td>&lt;form method='POST'&gt;&lt;input name='message'&gt;&lt;inp...</td>\n",
       "      <td>None</td>\n",
       "      <td>None</td>\n",
       "      <td>None</td>\n",
       "      <td>None</td>\n",
       "      <td>Benign</td>\n",
       "      <td>Benign</td>\n",
       "    </tr>\n",
       "    <tr>\n",
       "      <th>127497</th>\n",
       "      <td>127.0.0.1:5000</td>\n",
       "      <td>Mozilla/5.0 (Windows NT 6.1; Win64; x64; rv:25...</td>\n",
       "      <td>gzip, deflate, br</td>\n",
       "      <td>*/*</td>\n",
       "      <td>keep-alive</td>\n",
       "      <td>de</td>\n",
       "      <td>none</td>\n",
       "      <td>websocket</td>\n",
       "      <td>?1</td>\n",
       "      <td>document</td>\n",
       "      <td>['ck=giYaDJkC2Oa-rCmlAvYglQzy_Em-YHTv_5aOjposX...</td>\n",
       "      <td>Fri, 11 Nov 2022 02:49:37 GMT</td>\n",
       "      <td>GET</td>\n",
       "      <td>http://127.0.0.1:5000/post/new/</td>\n",
       "      <td></td>\n",
       "      <td>200 OK</td>\n",
       "      <td>text/html; charset=utf-8</td>\n",
       "      <td>70</td>\n",
       "      <td>200</td>\n",
       "      <td>&lt;form method='POST'&gt;&lt;input name='message'&gt;&lt;inp...</td>\n",
       "      <td>None</td>\n",
       "      <td>None</td>\n",
       "      <td>None</td>\n",
       "      <td>None</td>\n",
       "      <td>Benign</td>\n",
       "      <td>Benign</td>\n",
       "    </tr>\n",
       "    <tr>\n",
       "      <th>127498</th>\n",
       "      <td>127.0.0.1:5000</td>\n",
       "      <td>Mozilla/5.0 (X11; Ubuntu; Linux x86_64; rv:24....</td>\n",
       "      <td>gzip, deflate, br</td>\n",
       "      <td>*/*</td>\n",
       "      <td>keep-alive</td>\n",
       "      <td>de-CH</td>\n",
       "      <td>none</td>\n",
       "      <td>websocket</td>\n",
       "      <td>?1</td>\n",
       "      <td>document</td>\n",
       "      <td>['ck=VzOU9Ac91LxJ8UAvQ8Wt3c5Ua-30j4s9kcdTKrwCw...</td>\n",
       "      <td>Fri, 11 Nov 2022 02:47:43 GMT</td>\n",
       "      <td>GET</td>\n",
       "      <td>http://127.0.0.1:5000/orders/get/country/8599</td>\n",
       "      <td></td>\n",
       "      <td>404 NOT FOUND</td>\n",
       "      <td>text/html; charset=utf-8</td>\n",
       "      <td>207</td>\n",
       "      <td>404</td>\n",
       "      <td>&lt;!doctype html&gt;\\n&lt;html lang=en&gt;\\n&lt;title&gt;404 No...</td>\n",
       "      <td>None</td>\n",
       "      <td>None</td>\n",
       "      <td>None</td>\n",
       "      <td>None</td>\n",
       "      <td>Benign</td>\n",
       "      <td>Benign</td>\n",
       "    </tr>\n",
       "    <tr>\n",
       "      <th>127499</th>\n",
       "      <td>127.0.0.1:5000</td>\n",
       "      <td>Mozilla/5.0 (X11; Ubuntu; Linux x86_64; rv:24....</td>\n",
       "      <td>gzip, deflate, br</td>\n",
       "      <td>*/*</td>\n",
       "      <td>keep-alive</td>\n",
       "      <td>de-CH</td>\n",
       "      <td>none</td>\n",
       "      <td>same-origin</td>\n",
       "      <td>?1</td>\n",
       "      <td>document</td>\n",
       "      <td>['ck=0w5tjJLrrO3gkGZJQTSj2ryTjSiI2Dv-VPIdQfN1N...</td>\n",
       "      <td>Fri, 11 Nov 2022 03:10:46 GMT</td>\n",
       "      <td>GET</td>\n",
       "      <td>http://127.0.0.1:5000/about/greet</td>\n",
       "      <td></td>\n",
       "      <td>200 OK</td>\n",
       "      <td>text/html; charset=utf-8</td>\n",
       "      <td>350</td>\n",
       "      <td>200</td>\n",
       "      <td>&lt;p&gt;To start the challenge, first head over to ...</td>\n",
       "      <td>None</td>\n",
       "      <td>None</td>\n",
       "      <td>None</td>\n",
       "      <td>None</td>\n",
       "      <td>Benign</td>\n",
       "      <td>Benign</td>\n",
       "    </tr>\n",
       "  </tbody>\n",
       "</table>\n",
       "<p>127500 rows × 26 columns</p>\n",
       "</div>"
      ]
     },
     "metadata": {},
     "output_type": "display_data"
    }
   ],
   "source": [
    "# Remove all NAN columns or replace with desired string\n",
    "# This loop iterates over all of the column names which are all NaN\n",
    "for column in df.columns[df.isna().any()].tolist():\n",
    "    # df.drop(column, axis=1, inplace=True)\n",
    "    df[column] = df[column].fillna('None')\n",
    "\n",
    "# If you want to detect columns that may have only some NaN values use this:\n",
    "# df.loc[:, df.isna().any()].tolist()\n",
    "\n",
    "df"
   ]
  },
  {
   "cell_type": "code",
   "execution_count": 29,
   "metadata": {
    "datalore": {
     "hide_input_from_viewers": false,
     "hide_output_from_viewers": false,
     "node_id": "wjxo4em9pmhkV6ry2zOtiw",
     "report_properties": {
      "y": 93
     },
     "type": "CODE"
    }
   },
   "outputs": [
    {
     "data": {
      "text/html": [
       "<div>\n",
       "<style scoped>\n",
       "    .dataframe tbody tr th:only-of-type {\n",
       "        vertical-align: middle;\n",
       "    }\n",
       "\n",
       "    .dataframe tbody tr th {\n",
       "        vertical-align: top;\n",
       "    }\n",
       "\n",
       "    .dataframe thead th {\n",
       "        text-align: right;\n",
       "    }\n",
       "</style>\n",
       "<table border=\"1\" class=\"dataframe\">\n",
       "  <thead>\n",
       "    <tr style=\"text-align: right;\">\n",
       "      <th></th>\n",
       "      <th>request.headers.User-Agent</th>\n",
       "      <th>request.headers.Accept-Encoding</th>\n",
       "      <th>request.headers.Accept</th>\n",
       "      <th>request.headers.Connection</th>\n",
       "      <th>request.headers.Accept-Language</th>\n",
       "      <th>request.headers.Sec-Fetch-Site</th>\n",
       "      <th>request.headers.Sec-Fetch-Mode</th>\n",
       "      <th>request.headers.Sec-Fetch-User</th>\n",
       "      <th>request.headers.Sec-Fetch-Dest</th>\n",
       "      <th>request.headers.Set-Cookie</th>\n",
       "      <th>request.headers.Date</th>\n",
       "      <th>request.method</th>\n",
       "      <th>request.url</th>\n",
       "      <th>response.status</th>\n",
       "      <th>response.headers.Content-Type</th>\n",
       "      <th>response.headers.Content-Length</th>\n",
       "      <th>response.status_code</th>\n",
       "      <th>response.body</th>\n",
       "      <th>response.headers.Location</th>\n",
       "      <th>request.headers.Cookie</th>\n",
       "      <th>request.headers.Content-Length</th>\n",
       "      <th>response.headers.Set-Cookie</th>\n",
       "      <th>attack_type</th>\n",
       "      <th>label</th>\n",
       "    </tr>\n",
       "  </thead>\n",
       "  <tbody>\n",
       "    <tr>\n",
       "      <th>0</th>\n",
       "      <td>-0.755929</td>\n",
       "      <td>0</td>\n",
       "      <td>0</td>\n",
       "      <td>0</td>\n",
       "      <td>1</td>\n",
       "      <td>0</td>\n",
       "      <td>0</td>\n",
       "      <td>0</td>\n",
       "      <td>0</td>\n",
       "      <td>-0.646997</td>\n",
       "      <td>-0.632456</td>\n",
       "      <td>0</td>\n",
       "      <td>0.408248</td>\n",
       "      <td>4</td>\n",
       "      <td>-1.0</td>\n",
       "      <td>32</td>\n",
       "      <td>4</td>\n",
       "      <td>0.408248</td>\n",
       "      <td>-1.0</td>\n",
       "      <td>-1.0</td>\n",
       "      <td>-1.0</td>\n",
       "      <td>-1.0</td>\n",
       "      <td>Benign</td>\n",
       "      <td>Benign</td>\n",
       "    </tr>\n",
       "    <tr>\n",
       "      <th>1</th>\n",
       "      <td>0.000000</td>\n",
       "      <td>0</td>\n",
       "      <td>0</td>\n",
       "      <td>0</td>\n",
       "      <td>3</td>\n",
       "      <td>0</td>\n",
       "      <td>0</td>\n",
       "      <td>0</td>\n",
       "      <td>0</td>\n",
       "      <td>-0.480384</td>\n",
       "      <td>0.000000</td>\n",
       "      <td>0</td>\n",
       "      <td>0.000000</td>\n",
       "      <td>0</td>\n",
       "      <td>-1.0</td>\n",
       "      <td>1163</td>\n",
       "      <td>0</td>\n",
       "      <td>0.956183</td>\n",
       "      <td>-1.0</td>\n",
       "      <td>-1.0</td>\n",
       "      <td>-1.0</td>\n",
       "      <td>-1.0</td>\n",
       "      <td>Benign</td>\n",
       "      <td>Benign</td>\n",
       "    </tr>\n",
       "    <tr>\n",
       "      <th>2</th>\n",
       "      <td>-0.408248</td>\n",
       "      <td>0</td>\n",
       "      <td>0</td>\n",
       "      <td>0</td>\n",
       "      <td>1</td>\n",
       "      <td>0</td>\n",
       "      <td>1</td>\n",
       "      <td>0</td>\n",
       "      <td>0</td>\n",
       "      <td>0.426401</td>\n",
       "      <td>0.316228</td>\n",
       "      <td>0</td>\n",
       "      <td>0.707107</td>\n",
       "      <td>0</td>\n",
       "      <td>-1.0</td>\n",
       "      <td>1112</td>\n",
       "      <td>0</td>\n",
       "      <td>-0.255551</td>\n",
       "      <td>-1.0</td>\n",
       "      <td>-1.0</td>\n",
       "      <td>-1.0</td>\n",
       "      <td>-1.0</td>\n",
       "      <td>Benign</td>\n",
       "      <td>Benign</td>\n",
       "    </tr>\n",
       "    <tr>\n",
       "      <th>3</th>\n",
       "      <td>0.666667</td>\n",
       "      <td>0</td>\n",
       "      <td>0</td>\n",
       "      <td>0</td>\n",
       "      <td>2</td>\n",
       "      <td>0</td>\n",
       "      <td>0</td>\n",
       "      <td>0</td>\n",
       "      <td>0</td>\n",
       "      <td>-0.593391</td>\n",
       "      <td>-0.316228</td>\n",
       "      <td>0</td>\n",
       "      <td>0.577350</td>\n",
       "      <td>4</td>\n",
       "      <td>-1.0</td>\n",
       "      <td>33</td>\n",
       "      <td>4</td>\n",
       "      <td>0.408248</td>\n",
       "      <td>-1.0</td>\n",
       "      <td>-1.0</td>\n",
       "      <td>-1.0</td>\n",
       "      <td>-1.0</td>\n",
       "      <td>Benign</td>\n",
       "      <td>Benign</td>\n",
       "    </tr>\n",
       "    <tr>\n",
       "      <th>4</th>\n",
       "      <td>-0.471405</td>\n",
       "      <td>0</td>\n",
       "      <td>0</td>\n",
       "      <td>0</td>\n",
       "      <td>3</td>\n",
       "      <td>0</td>\n",
       "      <td>1</td>\n",
       "      <td>0</td>\n",
       "      <td>0</td>\n",
       "      <td>-0.652753</td>\n",
       "      <td>-0.471405</td>\n",
       "      <td>0</td>\n",
       "      <td>0.377964</td>\n",
       "      <td>4</td>\n",
       "      <td>-1.0</td>\n",
       "      <td>36</td>\n",
       "      <td>4</td>\n",
       "      <td>0.894427</td>\n",
       "      <td>-1.0</td>\n",
       "      <td>-1.0</td>\n",
       "      <td>-1.0</td>\n",
       "      <td>-1.0</td>\n",
       "      <td>Benign</td>\n",
       "      <td>Benign</td>\n",
       "    </tr>\n",
       "    <tr>\n",
       "      <th>...</th>\n",
       "      <td>...</td>\n",
       "      <td>...</td>\n",
       "      <td>...</td>\n",
       "      <td>...</td>\n",
       "      <td>...</td>\n",
       "      <td>...</td>\n",
       "      <td>...</td>\n",
       "      <td>...</td>\n",
       "      <td>...</td>\n",
       "      <td>...</td>\n",
       "      <td>...</td>\n",
       "      <td>...</td>\n",
       "      <td>...</td>\n",
       "      <td>...</td>\n",
       "      <td>...</td>\n",
       "      <td>...</td>\n",
       "      <td>...</td>\n",
       "      <td>...</td>\n",
       "      <td>...</td>\n",
       "      <td>...</td>\n",
       "      <td>...</td>\n",
       "      <td>...</td>\n",
       "      <td>...</td>\n",
       "      <td>...</td>\n",
       "    </tr>\n",
       "    <tr>\n",
       "      <th>127495</th>\n",
       "      <td>0.000000</td>\n",
       "      <td>0</td>\n",
       "      <td>0</td>\n",
       "      <td>0</td>\n",
       "      <td>2</td>\n",
       "      <td>0</td>\n",
       "      <td>1</td>\n",
       "      <td>0</td>\n",
       "      <td>0</td>\n",
       "      <td>-0.303046</td>\n",
       "      <td>0.000000</td>\n",
       "      <td>0</td>\n",
       "      <td>0.377964</td>\n",
       "      <td>4</td>\n",
       "      <td>-1.0</td>\n",
       "      <td>39</td>\n",
       "      <td>4</td>\n",
       "      <td>0.447214</td>\n",
       "      <td>-1.0</td>\n",
       "      <td>-1.0</td>\n",
       "      <td>-1.0</td>\n",
       "      <td>-1.0</td>\n",
       "      <td>Benign</td>\n",
       "      <td>Benign</td>\n",
       "    </tr>\n",
       "    <tr>\n",
       "      <th>127496</th>\n",
       "      <td>-0.471405</td>\n",
       "      <td>0</td>\n",
       "      <td>0</td>\n",
       "      <td>0</td>\n",
       "      <td>0</td>\n",
       "      <td>0</td>\n",
       "      <td>1</td>\n",
       "      <td>0</td>\n",
       "      <td>0</td>\n",
       "      <td>-0.125988</td>\n",
       "      <td>0.000000</td>\n",
       "      <td>0</td>\n",
       "      <td>0.000000</td>\n",
       "      <td>0</td>\n",
       "      <td>-1.0</td>\n",
       "      <td>70</td>\n",
       "      <td>0</td>\n",
       "      <td>0.408248</td>\n",
       "      <td>-1.0</td>\n",
       "      <td>-1.0</td>\n",
       "      <td>-1.0</td>\n",
       "      <td>-1.0</td>\n",
       "      <td>Benign</td>\n",
       "      <td>Benign</td>\n",
       "    </tr>\n",
       "    <tr>\n",
       "      <th>127497</th>\n",
       "      <td>0.000000</td>\n",
       "      <td>0</td>\n",
       "      <td>0</td>\n",
       "      <td>0</td>\n",
       "      <td>0</td>\n",
       "      <td>0</td>\n",
       "      <td>1</td>\n",
       "      <td>0</td>\n",
       "      <td>0</td>\n",
       "      <td>-0.363803</td>\n",
       "      <td>0.000000</td>\n",
       "      <td>0</td>\n",
       "      <td>0.000000</td>\n",
       "      <td>0</td>\n",
       "      <td>-1.0</td>\n",
       "      <td>70</td>\n",
       "      <td>0</td>\n",
       "      <td>0.408248</td>\n",
       "      <td>-1.0</td>\n",
       "      <td>-1.0</td>\n",
       "      <td>-1.0</td>\n",
       "      <td>-1.0</td>\n",
       "      <td>Benign</td>\n",
       "      <td>Benign</td>\n",
       "    </tr>\n",
       "    <tr>\n",
       "      <th>127498</th>\n",
       "      <td>-0.800000</td>\n",
       "      <td>0</td>\n",
       "      <td>0</td>\n",
       "      <td>0</td>\n",
       "      <td>1</td>\n",
       "      <td>0</td>\n",
       "      <td>1</td>\n",
       "      <td>0</td>\n",
       "      <td>0</td>\n",
       "      <td>-0.356348</td>\n",
       "      <td>-0.223607</td>\n",
       "      <td>0</td>\n",
       "      <td>0.377964</td>\n",
       "      <td>4</td>\n",
       "      <td>-1.0</td>\n",
       "      <td>207</td>\n",
       "      <td>4</td>\n",
       "      <td>0.000000</td>\n",
       "      <td>-1.0</td>\n",
       "      <td>-1.0</td>\n",
       "      <td>-1.0</td>\n",
       "      <td>-1.0</td>\n",
       "      <td>Benign</td>\n",
       "      <td>Benign</td>\n",
       "    </tr>\n",
       "    <tr>\n",
       "      <th>127499</th>\n",
       "      <td>-0.800000</td>\n",
       "      <td>0</td>\n",
       "      <td>0</td>\n",
       "      <td>0</td>\n",
       "      <td>1</td>\n",
       "      <td>0</td>\n",
       "      <td>0</td>\n",
       "      <td>0</td>\n",
       "      <td>0</td>\n",
       "      <td>-0.374634</td>\n",
       "      <td>-0.235702</td>\n",
       "      <td>0</td>\n",
       "      <td>0.894427</td>\n",
       "      <td>0</td>\n",
       "      <td>-1.0</td>\n",
       "      <td>350</td>\n",
       "      <td>0</td>\n",
       "      <td>0.291386</td>\n",
       "      <td>-1.0</td>\n",
       "      <td>-1.0</td>\n",
       "      <td>-1.0</td>\n",
       "      <td>-1.0</td>\n",
       "      <td>Benign</td>\n",
       "      <td>Benign</td>\n",
       "    </tr>\n",
       "  </tbody>\n",
       "</table>\n",
       "<p>127500 rows × 24 columns</p>\n",
       "</div>"
      ]
     },
     "metadata": {},
     "output_type": "display_data"
    }
   ],
   "source": [
    "# Setting features for further feature extraction by choosing columns\n",
    "# Some will be \"simply\" encoded via label encoding and others with HashingVectorizer\n",
    "\n",
    "# On these headers we will run a \"simple\" BOW\n",
    "\n",
    "SIMPLE_HEADERS = ['request.headers.Host',\n",
    "                  'request.headers.Accept',\n",
    "                  'request.headers.Connection',\n",
    "                  'request.headers.Accept-Encoding',\n",
    "                  'request.method',\n",
    "                  'request.headers.Accept-Language',\n",
    "                  'request.headers.Sec-Fetch-Site',\n",
    "                  'request.headers.Sec-Fetch-Mode',\n",
    "                  'request.headers.Sec-Fetch-Dest',\n",
    "                  'request.headers.Sec-Fetch-User',\n",
    "                  'response.status',\n",
    "                  'response.status_code'\n",
    "                  ]\n",
    "\n",
    "# On these headers we will run HashingVectorizer\n",
    "COMPLEX_HEADERS = ['request.headers.User-Agent',\n",
    "                   'request.headers.Set-Cookie',\n",
    "                   'request.headers.Date',\n",
    "                   'request.url',\n",
    "                   'response.body',\n",
    "                   'response.headers.Location',\n",
    "                   'request.headers.Content-Length',\n",
    "                   'request.headers.Cookie',\n",
    "                   'response.headers.Set-Cookie',\n",
    "                   'response.headers.Content-Type'\n",
    "                   ]\n",
    "\n",
    "COLUMNS_TO_REMOVE = ['request.headers.Host', 'request.body']\n",
    "\n",
    "\n",
    "\n",
    "# This is our main preprocessing function that will iterate over all of the chosen \n",
    "# columns and run some feature extraction models\n",
    "def vectorize_df(df):\n",
    "    le = LabelEncoder()\n",
    "    h_vec = HashingVectorizer(n_features=4)\n",
    "\n",
    "    # Run LabelEncoder on the chosen features\n",
    "    for column in SIMPLE_HEADERS:\n",
    "        df[column] = le.fit_transform(df[column])\n",
    "\n",
    "    # Run HashingVectorizer on the chosen features\n",
    "    for column in COMPLEX_HEADERS:\n",
    "        newHVec = h_vec.fit_transform(df[column])\n",
    "        df[column] = newHVec.todense()\n",
    "\n",
    "    # Remove some columns that may be needed.. (Or not, you decide)\n",
    "    for column in COLUMNS_TO_REMOVE:\n",
    "        df.drop(column, axis=1, inplace=True)\n",
    "    return df\n",
    "\n",
    "\n",
    "df = vectorize_df(df)\n",
    "\n",
    "df"
   ]
  },
  {
   "cell_type": "code",
   "execution_count": 30,
   "metadata": {
    "datalore": {
     "hide_input_from_viewers": false,
     "hide_output_from_viewers": false,
     "node_id": "3JiPopUz3LzCn6CU9MOtpt",
     "report_properties": {
      "y": 133
     },
     "type": "CODE"
    }
   },
   "outputs": [
    {
     "name": "stdout",
     "output_type": "stream",
     "text": [
      "<class 'pandas.core.frame.DataFrame'>\n",
      "RangeIndex: 127500 entries, 0 to 127499\n",
      "Data columns (total 24 columns):\n",
      " #   Column                           Non-Null Count   Dtype  \n",
      "---  ------                           --------------   -----  \n",
      " 0   request.headers.User-Agent       127500 non-null  float64\n",
      " 1   request.headers.Accept-Encoding  127500 non-null  int64  \n",
      " 2   request.headers.Accept           127500 non-null  int64  \n",
      " 3   request.headers.Connection       127500 non-null  int64  \n",
      " 4   request.headers.Accept-Language  127500 non-null  int64  \n",
      " 5   request.headers.Sec-Fetch-Site   127500 non-null  int64  \n",
      " 6   request.headers.Sec-Fetch-Mode   127500 non-null  int64  \n",
      " 7   request.headers.Sec-Fetch-User   127500 non-null  int64  \n",
      " 8   request.headers.Sec-Fetch-Dest   127500 non-null  int64  \n",
      " 9   request.headers.Set-Cookie       127500 non-null  float64\n",
      " 10  request.headers.Date             127500 non-null  float64\n",
      " 11  request.method                   127500 non-null  int64  \n",
      " 12  request.url                      127500 non-null  float64\n",
      " 13  response.status                  127500 non-null  int64  \n",
      " 14  response.headers.Content-Type    127500 non-null  float64\n",
      " 15  response.headers.Content-Length  127500 non-null  object \n",
      " 16  response.status_code             127500 non-null  int64  \n",
      " 17  response.body                    127500 non-null  float64\n",
      " 18  response.headers.Location        127500 non-null  float64\n",
      " 19  request.headers.Cookie           127500 non-null  float64\n",
      " 20  request.headers.Content-Length   127500 non-null  float64\n",
      " 21  response.headers.Set-Cookie      127500 non-null  float64\n",
      " 22  attack_type                      127500 non-null  object \n",
      " 23  label                            127500 non-null  object \n",
      "dtypes: float64(10), int64(11), object(3)\n",
      "memory usage: 43.1 MB\n"
     ]
    }
   ],
   "source": [
    "# Memory check (For large datasets sometimes the dataframe will exceed the computers resources)\n",
    "df.info(memory_usage=\"deep\")"
   ]
  },
  {
   "cell_type": "code",
   "execution_count": 31,
   "metadata": {
    "datalore": {
     "hide_input_from_viewers": false,
     "hide_output_from_viewers": false,
     "node_id": "PLK6Wj8IHvOnL1sSty6Uvb",
     "report_properties": {
      "y": 147
     },
     "type": "CODE"
    }
   },
   "outputs": [
    {
     "name": "stdout",
     "output_type": "stream",
     "text": [
      "['request.headers.User-Agent', 'request.headers.Accept-Encoding', 'request.headers.Accept', 'request.headers.Connection', 'request.headers.Accept-Language', 'request.headers.Sec-Fetch-Site', 'request.headers.Sec-Fetch-Mode', 'request.headers.Sec-Fetch-User', 'request.headers.Sec-Fetch-Dest', 'request.headers.Set-Cookie', 'request.headers.Date', 'request.method', 'request.url', 'response.status', 'response.headers.Content-Type', 'response.headers.Content-Length', 'response.status_code', 'response.body', 'response.headers.Location', 'request.headers.Cookie', 'request.headers.Content-Length', 'response.headers.Set-Cookie']\n"
     ]
    },
    {
     "data": {
      "text/html": [
       "<pre>request.headers.User-Agent         float64\n",
       "request.headers.Accept-Encoding      int64\n",
       "request.headers.Accept               int64\n",
       "request.headers.Connection           int64\n",
       "request.headers.Accept-Language      int64\n",
       "request.headers.Sec-Fetch-Site       int64\n",
       "request.headers.Sec-Fetch-Mode       int64\n",
       "request.headers.Sec-Fetch-User       int64\n",
       "request.headers.Sec-Fetch-Dest       int64\n",
       "request.headers.Set-Cookie         float64\n",
       "request.headers.Date               float64\n",
       "request.method                       int64\n",
       "request.url                        float64\n",
       "response.status                      int64\n",
       "response.headers.Content-Type      float64\n",
       "response.headers.Content-Length     object\n",
       "response.status_code                 int64\n",
       "response.body                      float64\n",
       "response.headers.Location          float64\n",
       "request.headers.Cookie             float64\n",
       "request.headers.Content-Length     float64\n",
       "response.headers.Set-Cookie        float64\n",
       "attack_type                         object\n",
       "label                               object\n",
       "dtype: object</pre>"
      ]
     },
     "metadata": {},
     "output_type": "display_data"
    }
   ],
   "source": [
    "# Choose the right features\n",
    "# In our example code we choose all the columns as our feature this can be the right or wrong way to approach the model, you choose.\n",
    "\n",
    "features_list = df.columns.to_list()\n",
    "features_list.remove('label')\n",
    "features_list.remove('attack_type')\n",
    "print(features_list)\n",
    "\n",
    "# Recheck all datatype before training to see we don't have any objects in our features\n",
    "# In this example our model must get features containing only numbers so we recheck to see if we missed anything during preprocessing\n",
    "df.dtypes"
   ]
  },
  {
   "cell_type": "code",
   "execution_count": 32,
   "metadata": {
    "datalore": {
     "hide_input_from_viewers": true,
     "hide_output_from_viewers": true,
     "node_id": "6zI62Igik0uEdzdxplZZXj",
     "type": "CODE"
    }
   },
   "outputs": [
    {
     "data": {
      "text/html": [
       "<div>\n",
       "<style scoped>\n",
       "    .dataframe tbody tr th:only-of-type {\n",
       "        vertical-align: middle;\n",
       "    }\n",
       "\n",
       "    .dataframe tbody tr th {\n",
       "        vertical-align: top;\n",
       "    }\n",
       "\n",
       "    .dataframe thead th {\n",
       "        text-align: right;\n",
       "    }\n",
       "</style>\n",
       "<table border=\"1\" class=\"dataframe\">\n",
       "  <thead>\n",
       "    <tr style=\"text-align: right;\">\n",
       "      <th></th>\n",
       "      <th>request.headers.User-Agent</th>\n",
       "      <th>request.headers.Accept-Encoding</th>\n",
       "      <th>request.headers.Accept</th>\n",
       "      <th>request.headers.Connection</th>\n",
       "      <th>request.headers.Accept-Language</th>\n",
       "      <th>request.headers.Sec-Fetch-Site</th>\n",
       "      <th>request.headers.Sec-Fetch-Mode</th>\n",
       "      <th>request.headers.Sec-Fetch-User</th>\n",
       "      <th>request.headers.Sec-Fetch-Dest</th>\n",
       "      <th>request.headers.Set-Cookie</th>\n",
       "      <th>request.headers.Date</th>\n",
       "      <th>request.method</th>\n",
       "      <th>request.url</th>\n",
       "      <th>response.status</th>\n",
       "      <th>response.headers.Content-Type</th>\n",
       "      <th>response.headers.Content-Length</th>\n",
       "      <th>response.status_code</th>\n",
       "      <th>response.body</th>\n",
       "      <th>response.headers.Location</th>\n",
       "      <th>request.headers.Cookie</th>\n",
       "      <th>request.headers.Content-Length</th>\n",
       "      <th>response.headers.Set-Cookie</th>\n",
       "      <th>attack_type</th>\n",
       "      <th>label</th>\n",
       "    </tr>\n",
       "  </thead>\n",
       "  <tbody>\n",
       "    <tr>\n",
       "      <th>0</th>\n",
       "      <td>-0.755929</td>\n",
       "      <td>0</td>\n",
       "      <td>0</td>\n",
       "      <td>0</td>\n",
       "      <td>1</td>\n",
       "      <td>0</td>\n",
       "      <td>0</td>\n",
       "      <td>0</td>\n",
       "      <td>0</td>\n",
       "      <td>-0.646997</td>\n",
       "      <td>-0.632456</td>\n",
       "      <td>0</td>\n",
       "      <td>0.408248</td>\n",
       "      <td>4</td>\n",
       "      <td>-1.0</td>\n",
       "      <td>32</td>\n",
       "      <td>4</td>\n",
       "      <td>0.408248</td>\n",
       "      <td>-1.0</td>\n",
       "      <td>-1.0</td>\n",
       "      <td>-1.0</td>\n",
       "      <td>-1.0</td>\n",
       "      <td>1</td>\n",
       "      <td>0</td>\n",
       "    </tr>\n",
       "    <tr>\n",
       "      <th>1</th>\n",
       "      <td>0.000000</td>\n",
       "      <td>0</td>\n",
       "      <td>0</td>\n",
       "      <td>0</td>\n",
       "      <td>3</td>\n",
       "      <td>0</td>\n",
       "      <td>0</td>\n",
       "      <td>0</td>\n",
       "      <td>0</td>\n",
       "      <td>-0.480384</td>\n",
       "      <td>0.000000</td>\n",
       "      <td>0</td>\n",
       "      <td>0.000000</td>\n",
       "      <td>0</td>\n",
       "      <td>-1.0</td>\n",
       "      <td>1163</td>\n",
       "      <td>0</td>\n",
       "      <td>0.956183</td>\n",
       "      <td>-1.0</td>\n",
       "      <td>-1.0</td>\n",
       "      <td>-1.0</td>\n",
       "      <td>-1.0</td>\n",
       "      <td>1</td>\n",
       "      <td>0</td>\n",
       "    </tr>\n",
       "    <tr>\n",
       "      <th>2</th>\n",
       "      <td>-0.408248</td>\n",
       "      <td>0</td>\n",
       "      <td>0</td>\n",
       "      <td>0</td>\n",
       "      <td>1</td>\n",
       "      <td>0</td>\n",
       "      <td>1</td>\n",
       "      <td>0</td>\n",
       "      <td>0</td>\n",
       "      <td>0.426401</td>\n",
       "      <td>0.316228</td>\n",
       "      <td>0</td>\n",
       "      <td>0.707107</td>\n",
       "      <td>0</td>\n",
       "      <td>-1.0</td>\n",
       "      <td>1112</td>\n",
       "      <td>0</td>\n",
       "      <td>-0.255551</td>\n",
       "      <td>-1.0</td>\n",
       "      <td>-1.0</td>\n",
       "      <td>-1.0</td>\n",
       "      <td>-1.0</td>\n",
       "      <td>1</td>\n",
       "      <td>0</td>\n",
       "    </tr>\n",
       "    <tr>\n",
       "      <th>3</th>\n",
       "      <td>0.666667</td>\n",
       "      <td>0</td>\n",
       "      <td>0</td>\n",
       "      <td>0</td>\n",
       "      <td>2</td>\n",
       "      <td>0</td>\n",
       "      <td>0</td>\n",
       "      <td>0</td>\n",
       "      <td>0</td>\n",
       "      <td>-0.593391</td>\n",
       "      <td>-0.316228</td>\n",
       "      <td>0</td>\n",
       "      <td>0.577350</td>\n",
       "      <td>4</td>\n",
       "      <td>-1.0</td>\n",
       "      <td>33</td>\n",
       "      <td>4</td>\n",
       "      <td>0.408248</td>\n",
       "      <td>-1.0</td>\n",
       "      <td>-1.0</td>\n",
       "      <td>-1.0</td>\n",
       "      <td>-1.0</td>\n",
       "      <td>1</td>\n",
       "      <td>0</td>\n",
       "    </tr>\n",
       "    <tr>\n",
       "      <th>4</th>\n",
       "      <td>-0.471405</td>\n",
       "      <td>0</td>\n",
       "      <td>0</td>\n",
       "      <td>0</td>\n",
       "      <td>3</td>\n",
       "      <td>0</td>\n",
       "      <td>1</td>\n",
       "      <td>0</td>\n",
       "      <td>0</td>\n",
       "      <td>-0.652753</td>\n",
       "      <td>-0.471405</td>\n",
       "      <td>0</td>\n",
       "      <td>0.377964</td>\n",
       "      <td>4</td>\n",
       "      <td>-1.0</td>\n",
       "      <td>36</td>\n",
       "      <td>4</td>\n",
       "      <td>0.894427</td>\n",
       "      <td>-1.0</td>\n",
       "      <td>-1.0</td>\n",
       "      <td>-1.0</td>\n",
       "      <td>-1.0</td>\n",
       "      <td>1</td>\n",
       "      <td>0</td>\n",
       "    </tr>\n",
       "    <tr>\n",
       "      <th>...</th>\n",
       "      <td>...</td>\n",
       "      <td>...</td>\n",
       "      <td>...</td>\n",
       "      <td>...</td>\n",
       "      <td>...</td>\n",
       "      <td>...</td>\n",
       "      <td>...</td>\n",
       "      <td>...</td>\n",
       "      <td>...</td>\n",
       "      <td>...</td>\n",
       "      <td>...</td>\n",
       "      <td>...</td>\n",
       "      <td>...</td>\n",
       "      <td>...</td>\n",
       "      <td>...</td>\n",
       "      <td>...</td>\n",
       "      <td>...</td>\n",
       "      <td>...</td>\n",
       "      <td>...</td>\n",
       "      <td>...</td>\n",
       "      <td>...</td>\n",
       "      <td>...</td>\n",
       "      <td>...</td>\n",
       "      <td>...</td>\n",
       "    </tr>\n",
       "    <tr>\n",
       "      <th>127495</th>\n",
       "      <td>0.000000</td>\n",
       "      <td>0</td>\n",
       "      <td>0</td>\n",
       "      <td>0</td>\n",
       "      <td>2</td>\n",
       "      <td>0</td>\n",
       "      <td>1</td>\n",
       "      <td>0</td>\n",
       "      <td>0</td>\n",
       "      <td>-0.303046</td>\n",
       "      <td>0.000000</td>\n",
       "      <td>0</td>\n",
       "      <td>0.377964</td>\n",
       "      <td>4</td>\n",
       "      <td>-1.0</td>\n",
       "      <td>39</td>\n",
       "      <td>4</td>\n",
       "      <td>0.447214</td>\n",
       "      <td>-1.0</td>\n",
       "      <td>-1.0</td>\n",
       "      <td>-1.0</td>\n",
       "      <td>-1.0</td>\n",
       "      <td>1</td>\n",
       "      <td>0</td>\n",
       "    </tr>\n",
       "    <tr>\n",
       "      <th>127496</th>\n",
       "      <td>-0.471405</td>\n",
       "      <td>0</td>\n",
       "      <td>0</td>\n",
       "      <td>0</td>\n",
       "      <td>0</td>\n",
       "      <td>0</td>\n",
       "      <td>1</td>\n",
       "      <td>0</td>\n",
       "      <td>0</td>\n",
       "      <td>-0.125988</td>\n",
       "      <td>0.000000</td>\n",
       "      <td>0</td>\n",
       "      <td>0.000000</td>\n",
       "      <td>0</td>\n",
       "      <td>-1.0</td>\n",
       "      <td>70</td>\n",
       "      <td>0</td>\n",
       "      <td>0.408248</td>\n",
       "      <td>-1.0</td>\n",
       "      <td>-1.0</td>\n",
       "      <td>-1.0</td>\n",
       "      <td>-1.0</td>\n",
       "      <td>1</td>\n",
       "      <td>0</td>\n",
       "    </tr>\n",
       "    <tr>\n",
       "      <th>127497</th>\n",
       "      <td>0.000000</td>\n",
       "      <td>0</td>\n",
       "      <td>0</td>\n",
       "      <td>0</td>\n",
       "      <td>0</td>\n",
       "      <td>0</td>\n",
       "      <td>1</td>\n",
       "      <td>0</td>\n",
       "      <td>0</td>\n",
       "      <td>-0.363803</td>\n",
       "      <td>0.000000</td>\n",
       "      <td>0</td>\n",
       "      <td>0.000000</td>\n",
       "      <td>0</td>\n",
       "      <td>-1.0</td>\n",
       "      <td>70</td>\n",
       "      <td>0</td>\n",
       "      <td>0.408248</td>\n",
       "      <td>-1.0</td>\n",
       "      <td>-1.0</td>\n",
       "      <td>-1.0</td>\n",
       "      <td>-1.0</td>\n",
       "      <td>1</td>\n",
       "      <td>0</td>\n",
       "    </tr>\n",
       "    <tr>\n",
       "      <th>127498</th>\n",
       "      <td>-0.800000</td>\n",
       "      <td>0</td>\n",
       "      <td>0</td>\n",
       "      <td>0</td>\n",
       "      <td>1</td>\n",
       "      <td>0</td>\n",
       "      <td>1</td>\n",
       "      <td>0</td>\n",
       "      <td>0</td>\n",
       "      <td>-0.356348</td>\n",
       "      <td>-0.223607</td>\n",
       "      <td>0</td>\n",
       "      <td>0.377964</td>\n",
       "      <td>4</td>\n",
       "      <td>-1.0</td>\n",
       "      <td>207</td>\n",
       "      <td>4</td>\n",
       "      <td>0.000000</td>\n",
       "      <td>-1.0</td>\n",
       "      <td>-1.0</td>\n",
       "      <td>-1.0</td>\n",
       "      <td>-1.0</td>\n",
       "      <td>1</td>\n",
       "      <td>0</td>\n",
       "    </tr>\n",
       "    <tr>\n",
       "      <th>127499</th>\n",
       "      <td>-0.800000</td>\n",
       "      <td>0</td>\n",
       "      <td>0</td>\n",
       "      <td>0</td>\n",
       "      <td>1</td>\n",
       "      <td>0</td>\n",
       "      <td>0</td>\n",
       "      <td>0</td>\n",
       "      <td>0</td>\n",
       "      <td>-0.374634</td>\n",
       "      <td>-0.235702</td>\n",
       "      <td>0</td>\n",
       "      <td>0.894427</td>\n",
       "      <td>0</td>\n",
       "      <td>-1.0</td>\n",
       "      <td>350</td>\n",
       "      <td>0</td>\n",
       "      <td>0.291386</td>\n",
       "      <td>-1.0</td>\n",
       "      <td>-1.0</td>\n",
       "      <td>-1.0</td>\n",
       "      <td>-1.0</td>\n",
       "      <td>1</td>\n",
       "      <td>0</td>\n",
       "    </tr>\n",
       "  </tbody>\n",
       "</table>\n",
       "<p>127500 rows × 24 columns</p>\n",
       "</div>"
      ]
     },
     "metadata": {},
     "output_type": "display_data"
    }
   ],
   "source": [
    "df2 =df.replace('Benign', 0)\n",
    "df2.loc[df['attack_type'] != 0, 'attack_type'] = 1\n",
    "df2"
   ]
  },
  {
   "cell_type": "code",
   "execution_count": 35,
   "metadata": {
    "datalore": {
     "hide_input_from_viewers": true,
     "hide_output_from_viewers": true,
     "node_id": "WbA1n4bdcPzrexQQ873Rdp",
     "type": "CODE"
    }
   },
   "outputs": [
    {
     "ename": "KeyError",
     "evalue": "KeyError: \"['attack_type' 'label'] not found in axis\"",
     "output_type": "error",
     "traceback": [
      "\u001b[0;31m---------------------------------------------------------------------------",
      "Traceback (most recent call last)",
      "    at line 1 in <module>",
      "    at line 311 in wrapper(*args, **kwargs)",
      "    at line 4906 in drop(self, labels, axis, index, columns, level, inplace, errors)",
      "    at line 4150 in drop(self, labels, axis, index, columns, level, inplace, errors)",
      "    at line 4185 in _drop_axis(self, labels, axis, level, errors)",
      "    at line 6017 in drop(self, labels, errors)",
      "KeyError: \"['attack_type' 'label'] not found in axis\""
     ]
    }
   ],
   "source": [
    "df2.drop(['attack_type', 'label'], axis=1, inplace=True)"
   ]
  },
  {
   "cell_type": "code",
   "execution_count": 37,
   "metadata": {
    "datalore": {
     "hide_input_from_viewers": true,
     "hide_output_from_viewers": true,
     "node_id": "erfgB8SZjJIYUwqutH74we",
     "type": "CODE"
    }
   },
   "outputs": [
    {
     "data": {
      "text/html": [
       "<pre>request.headers.User-Agent         float64\n",
       "request.headers.Accept-Encoding      int64\n",
       "request.headers.Accept               int64\n",
       "request.headers.Connection           int64\n",
       "request.headers.Accept-Language      int64\n",
       "request.headers.Sec-Fetch-Site       int64\n",
       "request.headers.Sec-Fetch-Mode       int64\n",
       "request.headers.Sec-Fetch-User       int64\n",
       "request.headers.Sec-Fetch-Dest       int64\n",
       "request.headers.Set-Cookie         float64\n",
       "request.headers.Date               float64\n",
       "request.method                       int64\n",
       "request.url                        float64\n",
       "response.status                      int64\n",
       "response.headers.Content-Type      float64\n",
       "response.headers.Content-Length     object\n",
       "response.status_code                 int64\n",
       "response.body                      float64\n",
       "response.headers.Location          float64\n",
       "request.headers.Cookie             float64\n",
       "request.headers.Content-Length     float64\n",
       "response.headers.Set-Cookie        float64\n",
       "dtype: object</pre>"
      ]
     },
     "metadata": {},
     "output_type": "display_data"
    }
   ],
   "source": [
    "df2.dtypes"
   ]
  },
  {
   "cell_type": "code",
   "execution_count": 38,
   "metadata": {
    "datalore": {
     "hide_input_from_viewers": true,
     "hide_output_from_viewers": true,
     "node_id": "iznIlbv2XTt61IAo7MaJgy",
     "type": "CODE"
    }
   },
   "outputs": [
    {
     "data": {
      "application/vnd.plotly.v1+json": {
       "config": {
        "plotlyServerURL": "https://plot.ly"
       },
       "data": [
        {
         "hovertemplate": "# Components=%{x}<br>Explained Variance=%{y}<extra></extra>",
         "legendgroup": "",
         "line": {
          "color": "#636efa"
         },
         "marker": {
          "symbol": "circle"
         },
         "mode": "lines",
         "name": "",
         "orientation": "v",
         "showlegend": false,
         "stackgroup": "1",
         "type": "scatter",
         "x": [
          1,
          2,
          3,
          4,
          5,
          6,
          7,
          8,
          9,
          10,
          11,
          12,
          13,
          14,
          15,
          16,
          17,
          18,
          19,
          20,
          21,
          22
         ],
         "xaxis": "x",
         "y": [
          0.9999999577005185,
          0.9999999895220655,
          0.9999999954303926,
          0.999999996609995,
          0.9999999974732755,
          0.9999999982959176,
          0.9999999988661104,
          0.9999999992979095,
          0.9999999996549391,
          0.9999999997352733,
          0.9999999997984325,
          0.9999999998598685,
          0.9999999999172539,
          0.9999999999707034,
          1,
          1,
          1,
          1,
          1,
          1,
          1,
          1
         ],
         "yaxis": "y"
        }
       ],
       "layout": {
        "legend": {
         "tracegroupgap": 0
        },
        "margin": {
         "t": 60
        },
        "template": {
         "data": {
          "bar": [
           {
            "error_x": {
             "color": "#2a3f5f"
            },
            "error_y": {
             "color": "#2a3f5f"
            },
            "marker": {
             "line": {
              "color": "#E5ECF6",
              "width": 0.5
             },
             "pattern": {
              "fillmode": "overlay",
              "size": 10,
              "solidity": 0.2
             }
            },
            "type": "bar"
           }
          ],
          "barpolar": [
           {
            "marker": {
             "line": {
              "color": "#E5ECF6",
              "width": 0.5
             },
             "pattern": {
              "fillmode": "overlay",
              "size": 10,
              "solidity": 0.2
             }
            },
            "type": "barpolar"
           }
          ],
          "carpet": [
           {
            "aaxis": {
             "endlinecolor": "#2a3f5f",
             "gridcolor": "white",
             "linecolor": "white",
             "minorgridcolor": "white",
             "startlinecolor": "#2a3f5f"
            },
            "baxis": {
             "endlinecolor": "#2a3f5f",
             "gridcolor": "white",
             "linecolor": "white",
             "minorgridcolor": "white",
             "startlinecolor": "#2a3f5f"
            },
            "type": "carpet"
           }
          ],
          "choropleth": [
           {
            "colorbar": {
             "outlinewidth": 0,
             "ticks": ""
            },
            "type": "choropleth"
           }
          ],
          "contour": [
           {
            "colorbar": {
             "outlinewidth": 0,
             "ticks": ""
            },
            "colorscale": [
             [
              0,
              "#0d0887"
             ],
             [
              0.1111111111111111,
              "#46039f"
             ],
             [
              0.2222222222222222,
              "#7201a8"
             ],
             [
              0.3333333333333333,
              "#9c179e"
             ],
             [
              0.4444444444444444,
              "#bd3786"
             ],
             [
              0.5555555555555556,
              "#d8576b"
             ],
             [
              0.6666666666666666,
              "#ed7953"
             ],
             [
              0.7777777777777778,
              "#fb9f3a"
             ],
             [
              0.8888888888888888,
              "#fdca26"
             ],
             [
              1,
              "#f0f921"
             ]
            ],
            "type": "contour"
           }
          ],
          "contourcarpet": [
           {
            "colorbar": {
             "outlinewidth": 0,
             "ticks": ""
            },
            "type": "contourcarpet"
           }
          ],
          "heatmap": [
           {
            "colorbar": {
             "outlinewidth": 0,
             "ticks": ""
            },
            "colorscale": [
             [
              0,
              "#0d0887"
             ],
             [
              0.1111111111111111,
              "#46039f"
             ],
             [
              0.2222222222222222,
              "#7201a8"
             ],
             [
              0.3333333333333333,
              "#9c179e"
             ],
             [
              0.4444444444444444,
              "#bd3786"
             ],
             [
              0.5555555555555556,
              "#d8576b"
             ],
             [
              0.6666666666666666,
              "#ed7953"
             ],
             [
              0.7777777777777778,
              "#fb9f3a"
             ],
             [
              0.8888888888888888,
              "#fdca26"
             ],
             [
              1,
              "#f0f921"
             ]
            ],
            "type": "heatmap"
           }
          ],
          "heatmapgl": [
           {
            "colorbar": {
             "outlinewidth": 0,
             "ticks": ""
            },
            "colorscale": [
             [
              0,
              "#0d0887"
             ],
             [
              0.1111111111111111,
              "#46039f"
             ],
             [
              0.2222222222222222,
              "#7201a8"
             ],
             [
              0.3333333333333333,
              "#9c179e"
             ],
             [
              0.4444444444444444,
              "#bd3786"
             ],
             [
              0.5555555555555556,
              "#d8576b"
             ],
             [
              0.6666666666666666,
              "#ed7953"
             ],
             [
              0.7777777777777778,
              "#fb9f3a"
             ],
             [
              0.8888888888888888,
              "#fdca26"
             ],
             [
              1,
              "#f0f921"
             ]
            ],
            "type": "heatmapgl"
           }
          ],
          "histogram": [
           {
            "marker": {
             "pattern": {
              "fillmode": "overlay",
              "size": 10,
              "solidity": 0.2
             }
            },
            "type": "histogram"
           }
          ],
          "histogram2d": [
           {
            "colorbar": {
             "outlinewidth": 0,
             "ticks": ""
            },
            "colorscale": [
             [
              0,
              "#0d0887"
             ],
             [
              0.1111111111111111,
              "#46039f"
             ],
             [
              0.2222222222222222,
              "#7201a8"
             ],
             [
              0.3333333333333333,
              "#9c179e"
             ],
             [
              0.4444444444444444,
              "#bd3786"
             ],
             [
              0.5555555555555556,
              "#d8576b"
             ],
             [
              0.6666666666666666,
              "#ed7953"
             ],
             [
              0.7777777777777778,
              "#fb9f3a"
             ],
             [
              0.8888888888888888,
              "#fdca26"
             ],
             [
              1,
              "#f0f921"
             ]
            ],
            "type": "histogram2d"
           }
          ],
          "histogram2dcontour": [
           {
            "colorbar": {
             "outlinewidth": 0,
             "ticks": ""
            },
            "colorscale": [
             [
              0,
              "#0d0887"
             ],
             [
              0.1111111111111111,
              "#46039f"
             ],
             [
              0.2222222222222222,
              "#7201a8"
             ],
             [
              0.3333333333333333,
              "#9c179e"
             ],
             [
              0.4444444444444444,
              "#bd3786"
             ],
             [
              0.5555555555555556,
              "#d8576b"
             ],
             [
              0.6666666666666666,
              "#ed7953"
             ],
             [
              0.7777777777777778,
              "#fb9f3a"
             ],
             [
              0.8888888888888888,
              "#fdca26"
             ],
             [
              1,
              "#f0f921"
             ]
            ],
            "type": "histogram2dcontour"
           }
          ],
          "mesh3d": [
           {
            "colorbar": {
             "outlinewidth": 0,
             "ticks": ""
            },
            "type": "mesh3d"
           }
          ],
          "parcoords": [
           {
            "line": {
             "colorbar": {
              "outlinewidth": 0,
              "ticks": ""
             }
            },
            "type": "parcoords"
           }
          ],
          "pie": [
           {
            "automargin": true,
            "type": "pie"
           }
          ],
          "scatter": [
           {
            "marker": {
             "colorbar": {
              "outlinewidth": 0,
              "ticks": ""
             }
            },
            "type": "scatter"
           }
          ],
          "scatter3d": [
           {
            "line": {
             "colorbar": {
              "outlinewidth": 0,
              "ticks": ""
             }
            },
            "marker": {
             "colorbar": {
              "outlinewidth": 0,
              "ticks": ""
             }
            },
            "type": "scatter3d"
           }
          ],
          "scattercarpet": [
           {
            "marker": {
             "colorbar": {
              "outlinewidth": 0,
              "ticks": ""
             }
            },
            "type": "scattercarpet"
           }
          ],
          "scattergeo": [
           {
            "marker": {
             "colorbar": {
              "outlinewidth": 0,
              "ticks": ""
             }
            },
            "type": "scattergeo"
           }
          ],
          "scattergl": [
           {
            "marker": {
             "colorbar": {
              "outlinewidth": 0,
              "ticks": ""
             }
            },
            "type": "scattergl"
           }
          ],
          "scattermapbox": [
           {
            "marker": {
             "colorbar": {
              "outlinewidth": 0,
              "ticks": ""
             }
            },
            "type": "scattermapbox"
           }
          ],
          "scatterpolar": [
           {
            "marker": {
             "colorbar": {
              "outlinewidth": 0,
              "ticks": ""
             }
            },
            "type": "scatterpolar"
           }
          ],
          "scatterpolargl": [
           {
            "marker": {
             "colorbar": {
              "outlinewidth": 0,
              "ticks": ""
             }
            },
            "type": "scatterpolargl"
           }
          ],
          "scatterternary": [
           {
            "marker": {
             "colorbar": {
              "outlinewidth": 0,
              "ticks": ""
             }
            },
            "type": "scatterternary"
           }
          ],
          "surface": [
           {
            "colorbar": {
             "outlinewidth": 0,
             "ticks": ""
            },
            "colorscale": [
             [
              0,
              "#0d0887"
             ],
             [
              0.1111111111111111,
              "#46039f"
             ],
             [
              0.2222222222222222,
              "#7201a8"
             ],
             [
              0.3333333333333333,
              "#9c179e"
             ],
             [
              0.4444444444444444,
              "#bd3786"
             ],
             [
              0.5555555555555556,
              "#d8576b"
             ],
             [
              0.6666666666666666,
              "#ed7953"
             ],
             [
              0.7777777777777778,
              "#fb9f3a"
             ],
             [
              0.8888888888888888,
              "#fdca26"
             ],
             [
              1,
              "#f0f921"
             ]
            ],
            "type": "surface"
           }
          ],
          "table": [
           {
            "cells": {
             "fill": {
              "color": "#EBF0F8"
             },
             "line": {
              "color": "white"
             }
            },
            "header": {
             "fill": {
              "color": "#C8D4E3"
             },
             "line": {
              "color": "white"
             }
            },
            "type": "table"
           }
          ]
         },
         "layout": {
          "annotationdefaults": {
           "arrowcolor": "#2a3f5f",
           "arrowhead": 0,
           "arrowwidth": 1
          },
          "autotypenumbers": "strict",
          "coloraxis": {
           "colorbar": {
            "outlinewidth": 0,
            "ticks": ""
           }
          },
          "colorscale": {
           "diverging": [
            [
             0,
             "#8e0152"
            ],
            [
             0.1,
             "#c51b7d"
            ],
            [
             0.2,
             "#de77ae"
            ],
            [
             0.3,
             "#f1b6da"
            ],
            [
             0.4,
             "#fde0ef"
            ],
            [
             0.5,
             "#f7f7f7"
            ],
            [
             0.6,
             "#e6f5d0"
            ],
            [
             0.7,
             "#b8e186"
            ],
            [
             0.8,
             "#7fbc41"
            ],
            [
             0.9,
             "#4d9221"
            ],
            [
             1,
             "#276419"
            ]
           ],
           "sequential": [
            [
             0,
             "#0d0887"
            ],
            [
             0.1111111111111111,
             "#46039f"
            ],
            [
             0.2222222222222222,
             "#7201a8"
            ],
            [
             0.3333333333333333,
             "#9c179e"
            ],
            [
             0.4444444444444444,
             "#bd3786"
            ],
            [
             0.5555555555555556,
             "#d8576b"
            ],
            [
             0.6666666666666666,
             "#ed7953"
            ],
            [
             0.7777777777777778,
             "#fb9f3a"
            ],
            [
             0.8888888888888888,
             "#fdca26"
            ],
            [
             1,
             "#f0f921"
            ]
           ],
           "sequentialminus": [
            [
             0,
             "#0d0887"
            ],
            [
             0.1111111111111111,
             "#46039f"
            ],
            [
             0.2222222222222222,
             "#7201a8"
            ],
            [
             0.3333333333333333,
             "#9c179e"
            ],
            [
             0.4444444444444444,
             "#bd3786"
            ],
            [
             0.5555555555555556,
             "#d8576b"
            ],
            [
             0.6666666666666666,
             "#ed7953"
            ],
            [
             0.7777777777777778,
             "#fb9f3a"
            ],
            [
             0.8888888888888888,
             "#fdca26"
            ],
            [
             1,
             "#f0f921"
            ]
           ]
          },
          "colorway": [
           "#636efa",
           "#EF553B",
           "#00cc96",
           "#ab63fa",
           "#FFA15A",
           "#19d3f3",
           "#FF6692",
           "#B6E880",
           "#FF97FF",
           "#FECB52"
          ],
          "font": {
           "color": "#2a3f5f"
          },
          "geo": {
           "bgcolor": "white",
           "lakecolor": "white",
           "landcolor": "#E5ECF6",
           "showlakes": true,
           "showland": true,
           "subunitcolor": "white"
          },
          "hoverlabel": {
           "align": "left"
          },
          "hovermode": "closest",
          "mapbox": {
           "style": "light"
          },
          "paper_bgcolor": "white",
          "plot_bgcolor": "#E5ECF6",
          "polar": {
           "angularaxis": {
            "gridcolor": "white",
            "linecolor": "white",
            "ticks": ""
           },
           "bgcolor": "#E5ECF6",
           "radialaxis": {
            "gridcolor": "white",
            "linecolor": "white",
            "ticks": ""
           }
          },
          "scene": {
           "xaxis": {
            "backgroundcolor": "#E5ECF6",
            "gridcolor": "white",
            "gridwidth": 2,
            "linecolor": "white",
            "showbackground": true,
            "ticks": "",
            "zerolinecolor": "white"
           },
           "yaxis": {
            "backgroundcolor": "#E5ECF6",
            "gridcolor": "white",
            "gridwidth": 2,
            "linecolor": "white",
            "showbackground": true,
            "ticks": "",
            "zerolinecolor": "white"
           },
           "zaxis": {
            "backgroundcolor": "#E5ECF6",
            "gridcolor": "white",
            "gridwidth": 2,
            "linecolor": "white",
            "showbackground": true,
            "ticks": "",
            "zerolinecolor": "white"
           }
          },
          "shapedefaults": {
           "line": {
            "color": "#2a3f5f"
           }
          },
          "ternary": {
           "aaxis": {
            "gridcolor": "white",
            "linecolor": "white",
            "ticks": ""
           },
           "baxis": {
            "gridcolor": "white",
            "linecolor": "white",
            "ticks": ""
           },
           "bgcolor": "#E5ECF6",
           "caxis": {
            "gridcolor": "white",
            "linecolor": "white",
            "ticks": ""
           }
          },
          "title": {
           "x": 0.05
          },
          "xaxis": {
           "automargin": true,
           "gridcolor": "white",
           "linecolor": "white",
           "ticks": "",
           "title": {
            "standoff": 15
           },
           "zerolinecolor": "white",
           "zerolinewidth": 2
          },
          "yaxis": {
           "automargin": true,
           "gridcolor": "white",
           "linecolor": "white",
           "ticks": "",
           "title": {
            "standoff": 15
           },
           "zerolinecolor": "white",
           "zerolinewidth": 2
          }
         }
        },
        "xaxis": {
         "anchor": "y",
         "domain": [
          0,
          1
         ],
         "title": {
          "text": "# Components"
         }
        },
        "yaxis": {
         "anchor": "x",
         "domain": [
          0,
          1
         ],
         "title": {
          "text": "Explained Variance"
         }
        }
       }
      }
     },
     "metadata": {},
     "output_type": "display_data"
    }
   ],
   "source": [
    "import plotly.express as px\n",
    "import numpy as np\n",
    "import pandas as pd\n",
    "from sklearn.decomposition import PCA\n",
    "from sklearn.datasets import load_diabetes\n",
    "\n",
    "pca = PCA()\n",
    "pca.fit(df2)\n",
    "exp_var_cumul = np.cumsum(pca.explained_variance_ratio_)\n",
    "\n",
    "px.area(\n",
    "    x=range(1, exp_var_cumul.shape[0] + 1),\n",
    "    y=exp_var_cumul,\n",
    "    labels={\"x\": \"# Components\", \"y\": \"Explained Variance\"}\n",
    ")"
   ]
  },
  {
   "cell_type": "code",
   "execution_count": 43,
   "metadata": {
    "datalore": {
     "hide_input_from_viewers": true,
     "hide_output_from_viewers": true,
     "node_id": "Lk60pl7FAfrrCKUOqheKPu",
     "type": "CODE"
    }
   },
   "outputs": [],
   "source": [
    "df.to_csv(\"dataset_without_filter.csv\")"
   ]
  },
  {
   "cell_type": "markdown",
   "metadata": {
    "datalore": {
     "hide_input_from_viewers": false,
     "hide_output_from_viewers": false,
     "node_id": "RandomForest",
     "sheet_delimiter": true,
     "type": "MD"
    }
   },
   "source": [
    "# RandomForest"
   ]
  },
  {
   "cell_type": "code",
   "execution_count": 44,
   "metadata": {
    "datalore": {
     "hide_input_from_viewers": true,
     "hide_output_from_viewers": true,
     "node_id": "rFTYCyoBYgKuY8Cui7DWef",
     "type": "CODE"
    }
   },
   "outputs": [
    {
     "name": "stdout",
     "output_type": "stream",
     "text": [
      "<class 'pandas.core.frame.DataFrame'>\n",
      "RangeIndex: 4282 entries, 0 to 4281\n",
      "Data columns (total 20 columns):\n",
      " #   Column                           Non-Null Count  Dtype  \n",
      "---  ------                           --------------  -----  \n",
      " 0   request.headers.User-Agent       4282 non-null   float64\n",
      " 1   request.headers.Accept-Encoding  4282 non-null   int64  \n",
      " 2   request.headers.Accept-Language  4282 non-null   int64  \n",
      " 3   request.headers.Sec-Fetch-Site   4282 non-null   int64  \n",
      " 4   request.headers.Sec-Fetch-Mode   4282 non-null   int64  \n",
      " 5   request.headers.Sec-Fetch-Dest   4282 non-null   int64  \n",
      " 6   request.headers.Set-Cookie       4282 non-null   float64\n",
      " 7   request.headers.Date             4282 non-null   float64\n",
      " 8   request.method                   4282 non-null   int64  \n",
      " 9   request.url                      4282 non-null   float64\n",
      " 10  response.status                  4282 non-null   int64  \n",
      " 11  response.headers.Content-Length  4282 non-null   object \n",
      " 12  response.status_code             4282 non-null   int64  \n",
      " 13  response.body                    4282 non-null   float64\n",
      " 14  request.headers.Cookie           4282 non-null   float64\n",
      " 15  response.headers.Location        4282 non-null   float64\n",
      " 16  request.headers.Content-Length   4282 non-null   float64\n",
      " 17  response.headers.Set-Cookie      4282 non-null   float64\n",
      " 18  attack_type                      4282 non-null   object \n",
      " 19  label                            4282 non-null   object \n",
      "dtypes: float64(9), int64(8), object(3)\n",
      "memory usage: 1.3 MB\n",
      "['request.headers.User-Agent', 'request.headers.Accept-Encoding', 'request.headers.Accept-Language', 'request.headers.Sec-Fetch-Site', 'request.headers.Sec-Fetch-Mode', 'request.headers.Sec-Fetch-Dest', 'request.headers.Set-Cookie', 'request.headers.Date', 'request.method', 'request.url', 'response.status', 'response.headers.Content-Length', 'response.status_code', 'response.body', 'request.headers.Cookie', 'response.headers.Location', 'request.headers.Content-Length', 'response.headers.Set-Cookie']\n"
     ]
    },
    {
     "data": {
      "text/html": [
       "<pre>request.headers.User-Agent         float64\n",
       "request.headers.Accept-Encoding      int64\n",
       "request.headers.Accept-Language      int64\n",
       "request.headers.Sec-Fetch-Site       int64\n",
       "request.headers.Sec-Fetch-Mode       int64\n",
       "request.headers.Sec-Fetch-Dest       int64\n",
       "request.headers.Set-Cookie         float64\n",
       "request.headers.Date               float64\n",
       "request.method                       int64\n",
       "request.url                        float64\n",
       "response.status                      int64\n",
       "response.headers.Content-Length     object\n",
       "response.status_code                 int64\n",
       "response.body                      float64\n",
       "request.headers.Cookie             float64\n",
       "response.headers.Location          float64\n",
       "request.headers.Content-Length     float64\n",
       "response.headers.Set-Cookie        float64\n",
       "attack_type                         object\n",
       "label                               object\n",
       "dtype: object</pre>"
      ]
     },
     "metadata": {},
     "output_type": "display_data"
    }
   ],
   "source": [
    "# -*- coding: utf-8 -*-\n",
    "\n",
    "# -- Sheet 2 --\n",
    "\n",
    "# **############# Imports, settings and first dataset view ###############**\n",
    "\n",
    "\n",
    "# Imports, settings and first dataset view\n",
    "import pandas as pd\n",
    "import seaborn as sns\n",
    "import numpy as np\n",
    "import json\n",
    "\n",
    "from sklearn.feature_extraction.text import CountVectorizer, HashingVectorizer\n",
    "from sklearn.preprocessing import LabelEncoder\n",
    "from sklearn.model_selection import train_test_split\n",
    "from sklearn.ensemble import RandomForestClassifier\n",
    "from sklearn.metrics import confusion_matrix, classification_report\n",
    "from collections import Counter\n",
    "\n",
    "# Set pandas to show all columns when you print a dataframe\n",
    "pd.set_option('display.max_columns', None)\n",
    "\n",
    "# Global setting here you choose the dataset number and classification type for the model\n",
    "dataset_number = 1  # Options are [1, 2, 3, 4]\n",
    "test_type = 'label'  # Options are ['label', 'attack_type']\n",
    "\n",
    "# Read the json and read it to a pandas dataframe object, you can change these settings\n",
    "with open(f'combined_datasets_for_students/dataset_{str(dataset_number)}_train.json') as file:\n",
    "    raw_ds = json.load(file)\n",
    "df = pd.json_normalize(raw_ds, max_level=2)\n",
    "\n",
    "# Shoe the first five lines of the dataframe to see if everything was read accordingly \n",
    "df\n",
    "\n",
    "# **# open the dataset file**\n",
    "\n",
    "\n",
    "# Fill the black attack tag lines with \"Benign\" string\n",
    "df['request.Attack_Tag'] = df['request.Attack_Tag'].fillna('Benign')\n",
    "df['attack_type'] = df['request.Attack_Tag']\n",
    "\n",
    "\n",
    "# This function will be used in the lambda below to iterate over the label columns \n",
    "# You can use this snippet to run your own lambda on any data with the apply() method\n",
    "def categorize(row):\n",
    "    if row['request.Attack_Tag'] == 'Benign':\n",
    "        return 'Benign'\n",
    "    return 'Malware'\n",
    "\n",
    "\n",
    "df['label'] = df.apply(lambda row: categorize(row), axis=1)\n",
    "\n",
    "# After finishing the arrangements we delete the irrelevant column\n",
    "df.drop('request.Attack_Tag', axis=1, inplace=True)\n",
    "\n",
    "df\n",
    "\n",
    "# **############## Basic dataset label arrangements ###############**\n",
    "\n",
    "\n",
    "# Remove all NAN columns or replace with desired string\n",
    "# This loop iterates over all of the column names which are all NaN\n",
    "for column in df.columns[df.isna().any()].tolist():\n",
    "    # df.drop(column, axis=1, inplace=True)\n",
    "    df[column] = df[column].fillna('None')\n",
    "\n",
    "# If you want to detect columns that may have only some NaN values use this:\n",
    "# df.loc[:, df.isna().any()].tolist()\n",
    "\n",
    "df\n",
    "\n",
    "# Setting features for further feature extraction by choosing columns\n",
    "# Some will be \"simply\" encoded via label encoding and others with HashingVectorizer\n",
    "\n",
    "# On these headers we will run a \"simple\" BOW\n",
    "SIMPLE_HEADERS = ['request.headers.Accept-Encoding',\n",
    "                  'request.method',\n",
    "                  'request.headers.Accept-Language',\n",
    "                  'request.headers.Sec-Fetch-Site',\n",
    "                  'request.headers.Sec-Fetch-Mode',\n",
    "                  'request.headers.Sec-Fetch-Dest',\n",
    "                  'response.status',\n",
    "                  'response.status_code'\n",
    "                  ]\n",
    "\n",
    "# On these headers we will run HashingVectorizer\n",
    "COMPLEX_HEADERS = ['request.headers.User-Agent',\n",
    "                   'request.headers.Set-Cookie',\n",
    "                   'request.headers.Date',\n",
    "                   'request.url',\n",
    "                   'response.body',\n",
    "                   'response.headers.Location',\n",
    "                   'request.headers.Content-Length',\n",
    "                   'request.headers.Cookie',\n",
    "                   'response.headers.Set-Cookie'\n",
    "                   ]\n",
    "\n",
    "COLUMNS_TO_REMOVE = ['request.headers.Host',\n",
    "                     'request.headers.Accept',\n",
    "                     'request.headers.Connection',\n",
    "                     'request.headers.Sec-Fetch-User',\n",
    "                     'response.headers.Content-Type',\n",
    "                     'request.body']\n",
    "\n",
    "\n",
    "# This is our main preprocessing function that will iterate over all of the chosen \n",
    "# columns and run some feature extraction models\n",
    "def vectorize_df(df):\n",
    "    le = LabelEncoder()\n",
    "    h_vec = HashingVectorizer(n_features=4)\n",
    "\n",
    "    # Run LabelEncoder on the chosen features\n",
    "    for column in SIMPLE_HEADERS:\n",
    "        df[column] = le.fit_transform(df[column])\n",
    "\n",
    "    # Run HashingVectorizer on the chosen features\n",
    "    for column in COMPLEX_HEADERS:\n",
    "        newHVec = h_vec.fit_transform(df[column])\n",
    "        df[column] = newHVec.todense()\n",
    "\n",
    "    # Remove some columns that may be needed.. (Or not, you decide)\n",
    "    for column in COLUMNS_TO_REMOVE:\n",
    "        df.drop(column, axis=1, inplace=True)\n",
    "    return df\n",
    "\n",
    "\n",
    "df = vectorize_df(df)\n",
    "\n",
    "# Memory check (For large datasets sometimes the dataframe will exceed the computers resources)\n",
    "df.info(memory_usage=\"deep\")\n",
    "\n",
    "# Choose the right features\n",
    "# In our example code we choose all the columns as our feature this can be the right or wrong way to approach the model, you choose.\n",
    "\n",
    "features_list = df.columns.to_list()\n",
    "features_list.remove('label')\n",
    "features_list.remove('attack_type')\n",
    "print(features_list)\n",
    "\n",
    "# Recheck all datatype before training to see we don't have any objects in our features\n",
    "# In this example our model must get features containing only numbers so we recheck to see if we missed anything during preprocessing\n",
    "df.dtypes\n"
   ]
  },
  {
   "cell_type": "code",
   "execution_count": 45,
   "metadata": {
    "datalore": {
     "hide_input_from_viewers": true,
     "hide_output_from_viewers": true,
     "node_id": "1v8Y8hQG9yDwIGVbVUMy3p",
     "type": "CODE"
    }
   },
   "outputs": [],
   "source": [
    "# df.to_csv(\"dataset_with_filter.csv\")"
   ]
  },
  {
   "cell_type": "code",
   "execution_count": 46,
   "metadata": {
    "datalore": {
     "hide_input_from_viewers": true,
     "hide_output_from_viewers": true,
     "node_id": "SGZOmJ8hAQfYJaBImh4r3x",
     "type": "CODE"
    }
   },
   "outputs": [
    {
     "data": {
      "text/html": [
       "<div>\n",
       "<style scoped>\n",
       "    .dataframe tbody tr th:only-of-type {\n",
       "        vertical-align: middle;\n",
       "    }\n",
       "\n",
       "    .dataframe tbody tr th {\n",
       "        vertical-align: top;\n",
       "    }\n",
       "\n",
       "    .dataframe thead th {\n",
       "        text-align: right;\n",
       "    }\n",
       "</style>\n",
       "<table border=\"1\" class=\"dataframe\">\n",
       "  <thead>\n",
       "    <tr style=\"text-align: right;\">\n",
       "      <th></th>\n",
       "      <th>request.headers.User-Agent</th>\n",
       "      <th>request.headers.Accept-Encoding</th>\n",
       "      <th>request.headers.Accept-Language</th>\n",
       "      <th>request.headers.Sec-Fetch-Site</th>\n",
       "      <th>request.headers.Sec-Fetch-Mode</th>\n",
       "      <th>request.headers.Sec-Fetch-Dest</th>\n",
       "      <th>request.headers.Set-Cookie</th>\n",
       "      <th>request.headers.Date</th>\n",
       "      <th>request.method</th>\n",
       "      <th>request.url</th>\n",
       "      <th>response.status</th>\n",
       "      <th>response.headers.Content-Length</th>\n",
       "      <th>response.status_code</th>\n",
       "      <th>response.body</th>\n",
       "      <th>request.headers.Cookie</th>\n",
       "      <th>response.headers.Location</th>\n",
       "      <th>request.headers.Content-Length</th>\n",
       "      <th>response.headers.Set-Cookie</th>\n",
       "      <th>attack_type</th>\n",
       "      <th>label</th>\n",
       "    </tr>\n",
       "  </thead>\n",
       "  <tbody>\n",
       "    <tr>\n",
       "      <th>0</th>\n",
       "      <td>-0.632456</td>\n",
       "      <td>0</td>\n",
       "      <td>1</td>\n",
       "      <td>0</td>\n",
       "      <td>0</td>\n",
       "      <td>0</td>\n",
       "      <td>-0.786334</td>\n",
       "      <td>-0.577350</td>\n",
       "      <td>0</td>\n",
       "      <td>0.000000</td>\n",
       "      <td>0</td>\n",
       "      <td>72</td>\n",
       "      <td>0</td>\n",
       "      <td>0.000000</td>\n",
       "      <td>-1.000000</td>\n",
       "      <td>-1.0</td>\n",
       "      <td>-1.0</td>\n",
       "      <td>-1.0</td>\n",
       "      <td>Directory Traversal</td>\n",
       "      <td>Malware</td>\n",
       "    </tr>\n",
       "    <tr>\n",
       "      <th>1</th>\n",
       "      <td>-0.632456</td>\n",
       "      <td>0</td>\n",
       "      <td>0</td>\n",
       "      <td>0</td>\n",
       "      <td>0</td>\n",
       "      <td>0</td>\n",
       "      <td>-0.786146</td>\n",
       "      <td>-0.577350</td>\n",
       "      <td>0</td>\n",
       "      <td>0.000000</td>\n",
       "      <td>4</td>\n",
       "      <td>41</td>\n",
       "      <td>4</td>\n",
       "      <td>0.000000</td>\n",
       "      <td>-1.000000</td>\n",
       "      <td>-1.0</td>\n",
       "      <td>-1.0</td>\n",
       "      <td>-1.0</td>\n",
       "      <td>Benign</td>\n",
       "      <td>Benign</td>\n",
       "    </tr>\n",
       "    <tr>\n",
       "      <th>2</th>\n",
       "      <td>-0.800000</td>\n",
       "      <td>0</td>\n",
       "      <td>0</td>\n",
       "      <td>0</td>\n",
       "      <td>0</td>\n",
       "      <td>0</td>\n",
       "      <td>-0.751646</td>\n",
       "      <td>-0.577350</td>\n",
       "      <td>0</td>\n",
       "      <td>1.000000</td>\n",
       "      <td>0</td>\n",
       "      <td>105</td>\n",
       "      <td>0</td>\n",
       "      <td>0.436436</td>\n",
       "      <td>-0.408248</td>\n",
       "      <td>-1.0</td>\n",
       "      <td>-1.0</td>\n",
       "      <td>-1.0</td>\n",
       "      <td>Cookie Injection</td>\n",
       "      <td>Malware</td>\n",
       "    </tr>\n",
       "    <tr>\n",
       "      <th>3</th>\n",
       "      <td>-0.516398</td>\n",
       "      <td>0</td>\n",
       "      <td>1</td>\n",
       "      <td>0</td>\n",
       "      <td>0</td>\n",
       "      <td>0</td>\n",
       "      <td>-0.716002</td>\n",
       "      <td>-0.577350</td>\n",
       "      <td>0</td>\n",
       "      <td>0.894427</td>\n",
       "      <td>4</td>\n",
       "      <td>30</td>\n",
       "      <td>4</td>\n",
       "      <td>0.577350</td>\n",
       "      <td>-1.000000</td>\n",
       "      <td>-1.0</td>\n",
       "      <td>-1.0</td>\n",
       "      <td>-1.0</td>\n",
       "      <td>Benign</td>\n",
       "      <td>Benign</td>\n",
       "    </tr>\n",
       "    <tr>\n",
       "      <th>4</th>\n",
       "      <td>0.377964</td>\n",
       "      <td>0</td>\n",
       "      <td>0</td>\n",
       "      <td>0</td>\n",
       "      <td>0</td>\n",
       "      <td>29</td>\n",
       "      <td>-0.691095</td>\n",
       "      <td>-0.577350</td>\n",
       "      <td>0</td>\n",
       "      <td>0.000000</td>\n",
       "      <td>4</td>\n",
       "      <td>41</td>\n",
       "      <td>4</td>\n",
       "      <td>0.000000</td>\n",
       "      <td>-1.000000</td>\n",
       "      <td>-1.0</td>\n",
       "      <td>-1.0</td>\n",
       "      <td>-1.0</td>\n",
       "      <td>LOG4J</td>\n",
       "      <td>Malware</td>\n",
       "    </tr>\n",
       "    <tr>\n",
       "      <th>...</th>\n",
       "      <td>...</td>\n",
       "      <td>...</td>\n",
       "      <td>...</td>\n",
       "      <td>...</td>\n",
       "      <td>...</td>\n",
       "      <td>...</td>\n",
       "      <td>...</td>\n",
       "      <td>...</td>\n",
       "      <td>...</td>\n",
       "      <td>...</td>\n",
       "      <td>...</td>\n",
       "      <td>...</td>\n",
       "      <td>...</td>\n",
       "      <td>...</td>\n",
       "      <td>...</td>\n",
       "      <td>...</td>\n",
       "      <td>...</td>\n",
       "      <td>...</td>\n",
       "      <td>...</td>\n",
       "      <td>...</td>\n",
       "    </tr>\n",
       "    <tr>\n",
       "      <th>4277</th>\n",
       "      <td>0.000000</td>\n",
       "      <td>0</td>\n",
       "      <td>2</td>\n",
       "      <td>0</td>\n",
       "      <td>1</td>\n",
       "      <td>0</td>\n",
       "      <td>-0.750479</td>\n",
       "      <td>-0.316228</td>\n",
       "      <td>1</td>\n",
       "      <td>1.000000</td>\n",
       "      <td>1</td>\n",
       "      <td>211</td>\n",
       "      <td>1</td>\n",
       "      <td>0.589768</td>\n",
       "      <td>0.000000</td>\n",
       "      <td>1.0</td>\n",
       "      <td>0.0</td>\n",
       "      <td>0.0</td>\n",
       "      <td>Cookie Injection</td>\n",
       "      <td>Malware</td>\n",
       "    </tr>\n",
       "    <tr>\n",
       "      <th>4278</th>\n",
       "      <td>-0.755929</td>\n",
       "      <td>0</td>\n",
       "      <td>0</td>\n",
       "      <td>0</td>\n",
       "      <td>0</td>\n",
       "      <td>0</td>\n",
       "      <td>-0.632456</td>\n",
       "      <td>-0.316228</td>\n",
       "      <td>0</td>\n",
       "      <td>0.577350</td>\n",
       "      <td>4</td>\n",
       "      <td>36</td>\n",
       "      <td>4</td>\n",
       "      <td>0.000000</td>\n",
       "      <td>-1.000000</td>\n",
       "      <td>-1.0</td>\n",
       "      <td>-1.0</td>\n",
       "      <td>-1.0</td>\n",
       "      <td>Benign</td>\n",
       "      <td>Benign</td>\n",
       "    </tr>\n",
       "    <tr>\n",
       "      <th>4279</th>\n",
       "      <td>0.000000</td>\n",
       "      <td>0</td>\n",
       "      <td>1</td>\n",
       "      <td>0</td>\n",
       "      <td>0</td>\n",
       "      <td>0</td>\n",
       "      <td>-0.664411</td>\n",
       "      <td>-0.316228</td>\n",
       "      <td>1</td>\n",
       "      <td>1.000000</td>\n",
       "      <td>1</td>\n",
       "      <td>211</td>\n",
       "      <td>1</td>\n",
       "      <td>0.589768</td>\n",
       "      <td>0.000000</td>\n",
       "      <td>1.0</td>\n",
       "      <td>0.0</td>\n",
       "      <td>0.0</td>\n",
       "      <td>Cookie Injection</td>\n",
       "      <td>Malware</td>\n",
       "    </tr>\n",
       "    <tr>\n",
       "      <th>4280</th>\n",
       "      <td>-0.755929</td>\n",
       "      <td>0</td>\n",
       "      <td>1</td>\n",
       "      <td>0</td>\n",
       "      <td>0</td>\n",
       "      <td>0</td>\n",
       "      <td>-0.514496</td>\n",
       "      <td>-0.235702</td>\n",
       "      <td>0</td>\n",
       "      <td>0.000000</td>\n",
       "      <td>4</td>\n",
       "      <td>41</td>\n",
       "      <td>4</td>\n",
       "      <td>0.000000</td>\n",
       "      <td>-1.000000</td>\n",
       "      <td>-1.0</td>\n",
       "      <td>-1.0</td>\n",
       "      <td>-1.0</td>\n",
       "      <td>Benign</td>\n",
       "      <td>Benign</td>\n",
       "    </tr>\n",
       "    <tr>\n",
       "      <th>4281</th>\n",
       "      <td>0.000000</td>\n",
       "      <td>0</td>\n",
       "      <td>1</td>\n",
       "      <td>0</td>\n",
       "      <td>1</td>\n",
       "      <td>0</td>\n",
       "      <td>-0.715542</td>\n",
       "      <td>-0.316228</td>\n",
       "      <td>0</td>\n",
       "      <td>0.000000</td>\n",
       "      <td>4</td>\n",
       "      <td>41</td>\n",
       "      <td>4</td>\n",
       "      <td>0.000000</td>\n",
       "      <td>-1.000000</td>\n",
       "      <td>-1.0</td>\n",
       "      <td>-1.0</td>\n",
       "      <td>-1.0</td>\n",
       "      <td>LOG4J</td>\n",
       "      <td>Malware</td>\n",
       "    </tr>\n",
       "  </tbody>\n",
       "</table>\n",
       "<p>4282 rows × 20 columns</p>\n",
       "</div>"
      ]
     },
     "metadata": {},
     "output_type": "display_data"
    }
   ],
   "source": [
    "df"
   ]
  },
  {
   "cell_type": "code",
   "execution_count": 47,
   "metadata": {
    "datalore": {
     "hide_input_from_viewers": true,
     "hide_output_from_viewers": true,
     "node_id": "tf2VZqk2g510MRUNvlo5bu",
     "type": "CODE"
    }
   },
   "outputs": [
    {
     "name": "stdout",
     "output_type": "stream",
     "text": [
      "(3526, 18) (3526,)\n",
      "(756, 18) (756,)\n"
     ]
    },
    {
     "data": {
      "text/plain": [
       "Counter({'Malware': 2264, 'Benign': 2018})"
      ]
     },
     "metadata": {},
     "output_type": "display_data"
    }
   ],
   "source": [
    "# Data train and test split preparations. Here we will insert our feature list and label list.\n",
    "# Afterwards the data will be trained and fitted on the amazing XGBoost model\n",
    "# X_Train and y_Train will be used for training\n",
    "# X_test and y_test.T will be used for over fitting checking and overall score testing\n",
    "\n",
    "# We convert the feature list to a numpy array, this is required for the model fitting\n",
    "X = df[features_list].to_numpy()\n",
    "\n",
    "# This column is the desired prediction we will train our model on\n",
    "y = np.stack(df[test_type])\n",
    "\n",
    "# We split the dataset to train and test according to the required ration\n",
    "# Do not change the test_size -> you can change anything else\n",
    "X_train, X_test, y_train, y_test = train_test_split(X, y, test_size=0.1765, random_state=42, stratify=y)\n",
    "\n",
    "# We print the resulted datasets and count the difference \n",
    "print(X_train.shape, y_train.shape)\n",
    "print(X_test.shape, y_test.shape)\n",
    "counter = Counter(y)\n",
    "counter"
   ]
  },
  {
   "cell_type": "code",
   "execution_count": 48,
   "metadata": {
    "datalore": {
     "hide_input_from_viewers": true,
     "hide_output_from_viewers": true,
     "node_id": "r9nzTudmNZeZDAJCOvB3vV",
     "type": "CODE"
    }
   },
   "outputs": [
    {
     "data": {
      "text/html": [
       "<pre>array([[0.0, 0, 2, ..., -1.0, -1.0, -1.0],\n",
       "       [0.6324555320336759, 0, 1, ..., -1.0, -1.0, -1.0],\n",
       "       [0.2581988897471611, 0, 1, ..., -1.0, -1.0, -1.0],\n",
       "       ...,\n",
       "       [0.0, 0, 0, ..., -1.0, -1.0, -1.0],\n",
       "       [0.0, 0, 0, ..., -1.0, -1.0, -1.0],\n",
       "       [0.0, 0, 2, ..., -1.0, -1.0, -1.0]], dtype=object)</pre>"
      ]
     },
     "metadata": {},
     "output_type": "display_data"
    }
   ],
   "source": [
    "X_train"
   ]
  },
  {
   "cell_type": "code",
   "execution_count": 49,
   "metadata": {
    "datalore": {
     "hide_input_from_viewers": true,
     "hide_output_from_viewers": true,
     "node_id": "cZSR6EQpKuWg9P4hBRaODK",
     "type": "CODE"
    }
   },
   "outputs": [
    {
     "name": "stdout",
     "output_type": "stream",
     "text": [
      "[('Benign', 1662), ('Malware', 1864)]\n"
     ]
    }
   ],
   "source": [
    "# We choose our model of choice and set it's hyper parameters you can change anything\n",
    "clf = RandomForestClassifier(n_estimators=100)\n",
    "\n",
    "# Train Model\n",
    "clf.fit(X_train, y_train)\n",
    "\n",
    "# Check data balance and variety\n",
    "print(sorted(Counter(y_train).items()))"
   ]
  },
  {
   "cell_type": "code",
   "execution_count": 50,
   "metadata": {
    "datalore": {
     "hide_input_from_viewers": true,
     "hide_output_from_viewers": true,
     "node_id": "zRHhjL0UQwP0EUGFd45Jwe",
     "type": "CODE"
    }
   },
   "outputs": [
    {
     "name": "stdout",
     "output_type": "stream",
     "text": [
      "              precision    recall  f1-score   support\n",
      "\n",
      "      Benign    0.92246   0.96910   0.94521       356\n",
      "     Malware    0.97120   0.92750   0.94885       400\n",
      "\n",
      "    accuracy                        0.94709       756\n",
      "   macro avg    0.94683   0.94830   0.94703       756\n",
      "weighted avg    0.94825   0.94709   0.94713       756\n",
      "\n"
     ]
    },
    {
     "data": {
      "image/png": "[encoded data removed]"
     },
     "metadata": {
      "image/png": {}
     },
     "output_type": "display_data"
    }
   ],
   "source": [
    "# We print our results\n",
    "sns.set(rc={'figure.figsize': (15, 8)})\n",
    "predictions = clf.predict(X_test)\n",
    "true_labels = y_test\n",
    "cf_matrix = confusion_matrix(true_labels, predictions)\n",
    "clf_report = classification_report(true_labels, predictions, digits=5)\n",
    "heatmap = sns.heatmap(cf_matrix, annot=True, cmap='Blues', fmt='g',\n",
    "                      xticklabels=np.unique(true_labels),\n",
    "                      yticklabels=np.unique(true_labels))\n",
    "\n",
    "# The heatmap is cool but this is the most important result\n",
    "print(clf_report)"
   ]
  },
  {
   "cell_type": "code",
   "execution_count": 51,
   "metadata": {
    "datalore": {
     "hide_input_from_viewers": true,
     "hide_output_from_viewers": true,
     "node_id": "Yqz6hWAnA0bKLPnSnaAJEi",
     "type": "CODE"
    }
   },
   "outputs": [],
   "source": [
    "import pickle\n",
    "\n",
    "# Save the model to a file\n",
    "with open(\"models/RandomForest.pkl\", \"wb\") as f:\n",
    "    pickle.dump(clf, f)"
   ]
  },
  {
   "cell_type": "markdown",
   "metadata": {
    "datalore": {
     "hide_input_from_viewers": false,
     "hide_output_from_viewers": false,
     "node_id": "RandomForestImprovement",
     "sheet_delimiter": true,
     "type": "MD"
    }
   },
   "source": [
    "# RandomForestImprovement"
   ]
  },
  {
   "cell_type": "code",
   "execution_count": 10,
   "metadata": {
    "datalore": {
     "hide_input_from_viewers": true,
     "hide_output_from_viewers": true,
     "node_id": "TFdFfKoT4xB7ehLmEKDzm2",
     "type": "CODE"
    }
   },
   "outputs": [
    {
     "name": "stdout",
     "output_type": "stream",
     "text": [
      "<class 'pandas.core.frame.DataFrame'>\n",
      "RangeIndex: 144500 entries, 0 to 144499\n",
      "Data columns (total 15 columns):\n",
      " #   Column                           Non-Null Count   Dtype  \n",
      "---  ------                           --------------   -----  \n",
      " 0   request.headers.User-Agent       144500 non-null  float64\n",
      " 1   request.headers.Accept-Encoding  144500 non-null  int32  \n",
      " 2   request.url                      144500 non-null  float64\n",
      " 3   response.status                  144500 non-null  int32  \n",
      " 4   response.headers.Content-Length  144500 non-null  object \n",
      " 5   response.body                    144500 non-null  float64\n",
      " 6   request.headers.Accept-Language  144500 non-null  int32  \n",
      " 7   request.headers.Sec-Fetch-Site   144500 non-null  int32  \n",
      " 8   request.headers.Sec-Fetch-Mode   144500 non-null  int32  \n",
      " 9   request.headers.Sec-Fetch-Dest   144500 non-null  int32  \n",
      " 10  request.headers.Date             144500 non-null  float64\n",
      " 11  request.headers.Content-Length   144500 non-null  float64\n",
      " 12  request.headers.Cookie           144500 non-null  float64\n",
      " 13  attack_type                      144500 non-null  object \n",
      " 14  label                            144500 non-null  object \n",
      "dtypes: float64(6), int32(6), object(3)\n",
      "memory usage: 35.6 MB\n",
      "['request.headers.User-Agent', 'request.headers.Accept-Encoding', 'request.url', 'response.status', 'response.headers.Content-Length', 'response.body', 'request.headers.Accept-Language', 'request.headers.Sec-Fetch-Site', 'request.headers.Sec-Fetch-Mode', 'request.headers.Sec-Fetch-Dest', 'request.headers.Date', 'request.headers.Content-Length', 'request.headers.Cookie']\n"
     ]
    },
    {
     "data": {
      "text/plain": [
       "request.headers.User-Agent         float64\n",
       "request.headers.Accept-Encoding      int32\n",
       "request.url                        float64\n",
       "response.status                      int32\n",
       "response.headers.Content-Length     object\n",
       "response.body                      float64\n",
       "request.headers.Accept-Language      int32\n",
       "request.headers.Sec-Fetch-Site       int32\n",
       "request.headers.Sec-Fetch-Mode       int32\n",
       "request.headers.Sec-Fetch-Dest       int32\n",
       "request.headers.Date               float64\n",
       "request.headers.Content-Length     float64\n",
       "request.headers.Cookie             float64\n",
       "attack_type                         object\n",
       "label                               object\n",
       "dtype: object"
      ]
     },
     "execution_count": 10,
     "metadata": {},
     "output_type": "execute_result"
    }
   ],
   "source": [
    "# -*- coding: utf-8 -*-\n",
    "\n",
    "# -- Sheet 2 --\n",
    "\n",
    "# **############# Imports, settings and first dataset view ###############**\n",
    "\n",
    "\n",
    "# Imports, settings and first dataset view\n",
    "import pandas as pd\n",
    "import seaborn as sns\n",
    "import numpy as np\n",
    "import json\n",
    "\n",
    "from sklearn.feature_extraction.text import CountVectorizer, HashingVectorizer\n",
    "from sklearn.preprocessing import LabelEncoder\n",
    "from sklearn.model_selection import train_test_split\n",
    "from sklearn.ensemble import RandomForestClassifier\n",
    "from sklearn.metrics import confusion_matrix, classification_report\n",
    "from collections import Counter\n",
    "\n",
    "# Set pandas to show all columns when you print a dataframe\n",
    "pd.set_option('display.max_columns', None)\n",
    "\n",
    "# Global setting here you choose the dataset number and classification type for the model\n",
    "dataset_number = 3  # Options are [1, 2, 3, 4]\n",
    "test_type = 'label'  # Options are ['label', 'attack_type']\n",
    "\n",
    "# Read the json and read it to a pandas dataframe object, you can change these settings\n",
    "with open(f'combined_datasets_for_students/dataset_{str(dataset_number)}_train.json') as file:\n",
    "    raw_ds = json.load(file)\n",
    "df = pd.json_normalize(raw_ds, max_level=2)\n",
    "\n",
    "# Shoe the first five lines of the dataframe to see if everything was read accordingly \n",
    "df\n",
    "\n",
    "# **# open the dataset file**\n",
    "\n",
    "\n",
    "# Fill the black attack tag lines with \"Benign\" string\n",
    "df['request.Attack_Tag'] = df['request.Attack_Tag'].fillna('Benign')\n",
    "df['attack_type'] = df['request.Attack_Tag']\n",
    "\n",
    "\n",
    "# This function will be used in the lambda below to iterate over the label columns \n",
    "# You can use this snippet to run your own lambda on any data with the apply() method\n",
    "def categorize(row):\n",
    "    if row['request.Attack_Tag'] == 'Benign':\n",
    "        return 'Benign'\n",
    "    return 'Malware'\n",
    "\n",
    "\n",
    "df['label'] = df.apply(lambda row: categorize(row), axis=1)\n",
    "\n",
    "# After finishing the arrangements we delete the irrelevant column\n",
    "df.drop('request.Attack_Tag', axis=1, inplace=True)\n",
    "\n",
    "df\n",
    "\n",
    "# **############## Basic dataset label arrangements ###############**\n",
    "\n",
    "\n",
    "# Remove all NAN columns or replace with desired string\n",
    "# This loop iterates over all of the column names which are all NaN\n",
    "for column in df.columns[df.isna().any()].tolist():\n",
    "    # df.drop(column, axis=1, inplace=True)\n",
    "    df[column] = df[column].fillna('None')\n",
    "\n",
    "# If you want to detect columns that may have only some NaN values use this:\n",
    "# df.loc[:, df.isna().any()].tolist()\n",
    "\n",
    "df\n",
    "\n",
    "# Setting features for further feature extraction by choosing columns\n",
    "# Some will be \"simply\" encoded via label encoding and others with HashingVectorizer\n",
    "\n",
    "# On these headers we will run a \"simple\" BOW\n",
    "SIMPLE_HEADERS = ['request.headers.Accept-Encoding',\n",
    "                #   'request.method',\n",
    "                  'request.headers.Accept-Language',\n",
    "                  'request.headers.Sec-Fetch-Site',\n",
    "                  'request.headers.Sec-Fetch-Mode',\n",
    "                  'request.headers.Sec-Fetch-Dest',\n",
    "                  'response.status',\n",
    "                  'response.status_code'\n",
    "                  \n",
    "                  ]\n",
    "\n",
    "# On these headers we will run HashingVectorizer\n",
    "COMPLEX_HEADERS = ['request.headers.User-Agent',\n",
    "                   'request.headers.Set-Cookie',\n",
    "                   'request.headers.Date',\n",
    "                   'request.url',\n",
    "                   'response.body',\n",
    "                   'response.headers.Location',\n",
    "                   'request.headers.Content-Length',\n",
    "                   'request.headers.Cookie',\n",
    "                   'response.headers.Set-Cookie'\n",
    "                   ]\n",
    "\n",
    "COLUMNS_TO_REMOVE = ['request.headers.Host',\n",
    "                     'request.headers.Accept',\n",
    "                     'request.headers.Connection',\n",
    "                     'request.headers.Sec-Fetch-User',\n",
    "                     'response.headers.Content-Type',\n",
    "                     'request.body',\n",
    "                     'response.status_code',\n",
    "                     'request.headers.Set-Cookie',\n",
    "                     'request.method',\n",
    "                     'response.headers.Location',\n",
    "                     'response.headers.Set-Cookie'\n",
    "                     ]\n",
    "\n",
    "\n",
    "# This is our main preprocessing function that will iterate over all of the chosen \n",
    "# columns and run some feature extraction models\n",
    "def vectorize_df(df):\n",
    "    le = LabelEncoder()\n",
    "    h_vec = HashingVectorizer(n_features=4)\n",
    "\n",
    "    # Run LabelEncoder on the chosen features\n",
    "    for column in SIMPLE_HEADERS:\n",
    "        df[column] = le.fit_transform(df[column])\n",
    "\n",
    "    # Run HashingVectorizer on the chosen features\n",
    "    for column in COMPLEX_HEADERS:\n",
    "        newHVec = h_vec.fit_transform(df[column])\n",
    "        df[column] = newHVec.todense()\n",
    "\n",
    "    # Remove some columns that may be needed.. (Or not, you decide)\n",
    "    for column in COLUMNS_TO_REMOVE:\n",
    "        df.drop(column, axis=1, inplace=True)\n",
    "    return df\n",
    "\n",
    "\n",
    "df = vectorize_df(df)\n",
    "\n",
    "# Memory check (For large datasets sometimes the dataframe will exceed the computers resources)\n",
    "df.info(memory_usage=\"deep\")\n",
    "\n",
    "# Choose the right features\n",
    "# In our example code we choose all the columns as our feature this can be the right or wrong way to approach the model, you choose.\n",
    "\n",
    "features_list = df.columns.to_list()\n",
    "features_list.remove('label')\n",
    "features_list.remove('attack_type')\n",
    "print(features_list)\n",
    "\n",
    "# Recheck all datatype before training to see we don't have any objects in our features\n",
    "# In this example our model must get features containing only numbers so we recheck to see if we missed anything during preprocessing\n",
    "df.dtypes\n"
   ]
  },
  {
   "cell_type": "code",
   "execution_count": 11,
   "metadata": {
    "datalore": {
     "hide_input_from_viewers": true,
     "hide_output_from_viewers": true,
     "node_id": "0s2UY1gG62UZ8a2281M0Mc",
     "type": "CODE"
    }
   },
   "outputs": [
    {
     "data": {
      "text/html": [
       "<div>\n",
       "<style scoped>\n",
       "    .dataframe tbody tr th:only-of-type {\n",
       "        vertical-align: middle;\n",
       "    }\n",
       "\n",
       "    .dataframe tbody tr th {\n",
       "        vertical-align: top;\n",
       "    }\n",
       "\n",
       "    .dataframe thead th {\n",
       "        text-align: right;\n",
       "    }\n",
       "</style>\n",
       "<table border=\"1\" class=\"dataframe\">\n",
       "  <thead>\n",
       "    <tr style=\"text-align: right;\">\n",
       "      <th></th>\n",
       "      <th>request.headers.User-Agent</th>\n",
       "      <th>request.headers.Accept-Encoding</th>\n",
       "      <th>request.url</th>\n",
       "      <th>response.status</th>\n",
       "      <th>response.headers.Content-Length</th>\n",
       "      <th>response.body</th>\n",
       "      <th>request.headers.Accept-Language</th>\n",
       "      <th>request.headers.Sec-Fetch-Site</th>\n",
       "      <th>request.headers.Sec-Fetch-Mode</th>\n",
       "      <th>request.headers.Sec-Fetch-Dest</th>\n",
       "      <th>request.headers.Date</th>\n",
       "      <th>request.headers.Content-Length</th>\n",
       "      <th>request.headers.Cookie</th>\n",
       "      <th>attack_type</th>\n",
       "      <th>label</th>\n",
       "    </tr>\n",
       "  </thead>\n",
       "  <tbody>\n",
       "    <tr>\n",
       "      <th>0</th>\n",
       "      <td>0.577350</td>\n",
       "      <td>0</td>\n",
       "      <td>0.666667</td>\n",
       "      <td>3</td>\n",
       "      <td>76</td>\n",
       "      <td>0.816497</td>\n",
       "      <td>0</td>\n",
       "      <td>0</td>\n",
       "      <td>0</td>\n",
       "      <td>0</td>\n",
       "      <td>-1.000000</td>\n",
       "      <td>-1.0</td>\n",
       "      <td>-1.0</td>\n",
       "      <td>Benign</td>\n",
       "      <td>Benign</td>\n",
       "    </tr>\n",
       "    <tr>\n",
       "      <th>1</th>\n",
       "      <td>0.258199</td>\n",
       "      <td>1</td>\n",
       "      <td>0.480384</td>\n",
       "      <td>1</td>\n",
       "      <td>199</td>\n",
       "      <td>-1.000000</td>\n",
       "      <td>4</td>\n",
       "      <td>1</td>\n",
       "      <td>1</td>\n",
       "      <td>1</td>\n",
       "      <td>-0.707107</td>\n",
       "      <td>-1.0</td>\n",
       "      <td>-1.0</td>\n",
       "      <td>XSS</td>\n",
       "      <td>Malware</td>\n",
       "    </tr>\n",
       "    <tr>\n",
       "      <th>2</th>\n",
       "      <td>-0.471405</td>\n",
       "      <td>1</td>\n",
       "      <td>0.816497</td>\n",
       "      <td>0</td>\n",
       "      <td>546</td>\n",
       "      <td>-1.000000</td>\n",
       "      <td>2</td>\n",
       "      <td>1</td>\n",
       "      <td>2</td>\n",
       "      <td>1</td>\n",
       "      <td>-1.000000</td>\n",
       "      <td>-1.0</td>\n",
       "      <td>-1.0</td>\n",
       "      <td>Benign</td>\n",
       "      <td>Benign</td>\n",
       "    </tr>\n",
       "    <tr>\n",
       "      <th>3</th>\n",
       "      <td>0.000000</td>\n",
       "      <td>1</td>\n",
       "      <td>0.500000</td>\n",
       "      <td>0</td>\n",
       "      <td>343</td>\n",
       "      <td>-0.115470</td>\n",
       "      <td>3</td>\n",
       "      <td>1</td>\n",
       "      <td>1</td>\n",
       "      <td>1</td>\n",
       "      <td>-0.816497</td>\n",
       "      <td>-1.0</td>\n",
       "      <td>-1.0</td>\n",
       "      <td>Benign</td>\n",
       "      <td>Benign</td>\n",
       "    </tr>\n",
       "    <tr>\n",
       "      <th>4</th>\n",
       "      <td>0.000000</td>\n",
       "      <td>1</td>\n",
       "      <td>0.554700</td>\n",
       "      <td>0</td>\n",
       "      <td>376</td>\n",
       "      <td>-1.000000</td>\n",
       "      <td>1</td>\n",
       "      <td>1</td>\n",
       "      <td>1</td>\n",
       "      <td>1</td>\n",
       "      <td>-0.816497</td>\n",
       "      <td>-1.0</td>\n",
       "      <td>-1.0</td>\n",
       "      <td>Benign</td>\n",
       "      <td>Benign</td>\n",
       "    </tr>\n",
       "    <tr>\n",
       "      <th>...</th>\n",
       "      <td>...</td>\n",
       "      <td>...</td>\n",
       "      <td>...</td>\n",
       "      <td>...</td>\n",
       "      <td>...</td>\n",
       "      <td>...</td>\n",
       "      <td>...</td>\n",
       "      <td>...</td>\n",
       "      <td>...</td>\n",
       "      <td>...</td>\n",
       "      <td>...</td>\n",
       "      <td>...</td>\n",
       "      <td>...</td>\n",
       "      <td>...</td>\n",
       "      <td>...</td>\n",
       "    </tr>\n",
       "    <tr>\n",
       "      <th>144495</th>\n",
       "      <td>0.577350</td>\n",
       "      <td>0</td>\n",
       "      <td>0.554700</td>\n",
       "      <td>3</td>\n",
       "      <td>76</td>\n",
       "      <td>0.816497</td>\n",
       "      <td>0</td>\n",
       "      <td>0</td>\n",
       "      <td>0</td>\n",
       "      <td>0</td>\n",
       "      <td>-1.000000</td>\n",
       "      <td>-1.0</td>\n",
       "      <td>-1.0</td>\n",
       "      <td>Benign</td>\n",
       "      <td>Benign</td>\n",
       "    </tr>\n",
       "    <tr>\n",
       "      <th>144496</th>\n",
       "      <td>0.000000</td>\n",
       "      <td>1</td>\n",
       "      <td>0.632456</td>\n",
       "      <td>5</td>\n",
       "      <td>28</td>\n",
       "      <td>0.408248</td>\n",
       "      <td>3</td>\n",
       "      <td>1</td>\n",
       "      <td>2</td>\n",
       "      <td>1</td>\n",
       "      <td>-0.816497</td>\n",
       "      <td>-1.0</td>\n",
       "      <td>-1.0</td>\n",
       "      <td>Benign</td>\n",
       "      <td>Benign</td>\n",
       "    </tr>\n",
       "    <tr>\n",
       "      <th>144497</th>\n",
       "      <td>-0.229416</td>\n",
       "      <td>1</td>\n",
       "      <td>0.316228</td>\n",
       "      <td>5</td>\n",
       "      <td>46</td>\n",
       "      <td>0.000000</td>\n",
       "      <td>2</td>\n",
       "      <td>1</td>\n",
       "      <td>1</td>\n",
       "      <td>1</td>\n",
       "      <td>-0.816497</td>\n",
       "      <td>-1.0</td>\n",
       "      <td>-1.0</td>\n",
       "      <td>Benign</td>\n",
       "      <td>Benign</td>\n",
       "    </tr>\n",
       "    <tr>\n",
       "      <th>144498</th>\n",
       "      <td>0.000000</td>\n",
       "      <td>1</td>\n",
       "      <td>-0.235702</td>\n",
       "      <td>4</td>\n",
       "      <td>41</td>\n",
       "      <td>0.408248</td>\n",
       "      <td>1</td>\n",
       "      <td>1</td>\n",
       "      <td>2</td>\n",
       "      <td>1</td>\n",
       "      <td>-0.816497</td>\n",
       "      <td>-1.0</td>\n",
       "      <td>-1.0</td>\n",
       "      <td>Benign</td>\n",
       "      <td>Benign</td>\n",
       "    </tr>\n",
       "    <tr>\n",
       "      <th>144499</th>\n",
       "      <td>0.000000</td>\n",
       "      <td>1</td>\n",
       "      <td>0.894427</td>\n",
       "      <td>0</td>\n",
       "      <td>34</td>\n",
       "      <td>-1.000000</td>\n",
       "      <td>1</td>\n",
       "      <td>1</td>\n",
       "      <td>1</td>\n",
       "      <td>1</td>\n",
       "      <td>-0.707107</td>\n",
       "      <td>-1.0</td>\n",
       "      <td>-1.0</td>\n",
       "      <td>Benign</td>\n",
       "      <td>Benign</td>\n",
       "    </tr>\n",
       "  </tbody>\n",
       "</table>\n",
       "<p>144500 rows × 15 columns</p>\n",
       "</div>"
      ],
      "text/plain": [
       "        request.headers.User-Agent  request.headers.Accept-Encoding  \\\n",
       "0                         0.577350                                0   \n",
       "1                         0.258199                                1   \n",
       "2                        -0.471405                                1   \n",
       "3                         0.000000                                1   \n",
       "4                         0.000000                                1   \n",
       "...                            ...                              ...   \n",
       "144495                    0.577350                                0   \n",
       "144496                    0.000000                                1   \n",
       "144497                   -0.229416                                1   \n",
       "144498                    0.000000                                1   \n",
       "144499                    0.000000                                1   \n",
       "\n",
       "        request.url  response.status response.headers.Content-Length  \\\n",
       "0          0.666667                3                              76   \n",
       "1          0.480384                1                             199   \n",
       "2          0.816497                0                             546   \n",
       "3          0.500000                0                             343   \n",
       "4          0.554700                0                             376   \n",
       "...             ...              ...                             ...   \n",
       "144495     0.554700                3                              76   \n",
       "144496     0.632456                5                              28   \n",
       "144497     0.316228                5                              46   \n",
       "144498    -0.235702                4                              41   \n",
       "144499     0.894427                0                              34   \n",
       "\n",
       "        response.body  request.headers.Accept-Language  \\\n",
       "0            0.816497                                0   \n",
       "1           -1.000000                                4   \n",
       "2           -1.000000                                2   \n",
       "3           -0.115470                                3   \n",
       "4           -1.000000                                1   \n",
       "...               ...                              ...   \n",
       "144495       0.816497                                0   \n",
       "144496       0.408248                                3   \n",
       "144497       0.000000                                2   \n",
       "144498       0.408248                                1   \n",
       "144499      -1.000000                                1   \n",
       "\n",
       "        request.headers.Sec-Fetch-Site  request.headers.Sec-Fetch-Mode  \\\n",
       "0                                    0                               0   \n",
       "1                                    1                               1   \n",
       "2                                    1                               2   \n",
       "3                                    1                               1   \n",
       "4                                    1                               1   \n",
       "...                                ...                             ...   \n",
       "144495                               0                               0   \n",
       "144496                               1                               2   \n",
       "144497                               1                               1   \n",
       "144498                               1                               2   \n",
       "144499                               1                               1   \n",
       "\n",
       "        request.headers.Sec-Fetch-Dest  request.headers.Date  \\\n",
       "0                                    0             -1.000000   \n",
       "1                                    1             -0.707107   \n",
       "2                                    1             -1.000000   \n",
       "3                                    1             -0.816497   \n",
       "4                                    1             -0.816497   \n",
       "...                                ...                   ...   \n",
       "144495                               0             -1.000000   \n",
       "144496                               1             -0.816497   \n",
       "144497                               1             -0.816497   \n",
       "144498                               1             -0.816497   \n",
       "144499                               1             -0.707107   \n",
       "\n",
       "        request.headers.Content-Length  request.headers.Cookie attack_type  \\\n",
       "0                                 -1.0                    -1.0      Benign   \n",
       "1                                 -1.0                    -1.0         XSS   \n",
       "2                                 -1.0                    -1.0      Benign   \n",
       "3                                 -1.0                    -1.0      Benign   \n",
       "4                                 -1.0                    -1.0      Benign   \n",
       "...                                ...                     ...         ...   \n",
       "144495                            -1.0                    -1.0      Benign   \n",
       "144496                            -1.0                    -1.0      Benign   \n",
       "144497                            -1.0                    -1.0      Benign   \n",
       "144498                            -1.0                    -1.0      Benign   \n",
       "144499                            -1.0                    -1.0      Benign   \n",
       "\n",
       "          label  \n",
       "0        Benign  \n",
       "1       Malware  \n",
       "2        Benign  \n",
       "3        Benign  \n",
       "4        Benign  \n",
       "...         ...  \n",
       "144495   Benign  \n",
       "144496   Benign  \n",
       "144497   Benign  \n",
       "144498   Benign  \n",
       "144499   Benign  \n",
       "\n",
       "[144500 rows x 15 columns]"
      ]
     },
     "execution_count": 11,
     "metadata": {},
     "output_type": "execute_result"
    }
   ],
   "source": [
    "df"
   ]
  },
  {
   "cell_type": "code",
   "execution_count": 12,
   "metadata": {
    "datalore": {
     "hide_input_from_viewers": true,
     "hide_output_from_viewers": true,
     "node_id": "KbTwfXIPVZzdOp3y4UkLyD",
     "type": "CODE"
    }
   },
   "outputs": [
    {
     "name": "stdout",
     "output_type": "stream",
     "text": [
      "(118995, 13) (118995,)\n",
      "(25505, 13) (25505,)\n"
     ]
    },
    {
     "data": {
      "text/plain": [
       "Counter({'Benign': 128384, 'Malware': 16116})"
      ]
     },
     "execution_count": 12,
     "metadata": {},
     "output_type": "execute_result"
    }
   ],
   "source": [
    "# Data train and test split preparations. Here we will insert our feature list and label list.\n",
    "# Afterwards the data will be trained and fitted on the amazing XGBoost model\n",
    "# X_Train and y_Train will be used for training\n",
    "# X_test and y_test.T will be used for over fitting checking and overall score testing\n",
    "\n",
    "# We convert the feature list to a numpy array, this is required for the model fitting\n",
    "X = df[features_list].to_numpy()\n",
    "\n",
    "# This column is the desired prediction we will train our model on\n",
    "y = np.stack(df[test_type])\n",
    "\n",
    "# We split the dataset to train and test according to the required ration\n",
    "# Do not change the test_size -> you can change anything else\n",
    "X_train, X_test, y_train, y_test = train_test_split(X, y, test_size=0.1765, random_state=42, stratify=y)\n",
    "\n",
    "# We print the resulted datasets and count the difference \n",
    "print(X_train.shape, y_train.shape)\n",
    "print(X_test.shape, y_test.shape)\n",
    "counter = Counter(y)\n",
    "counter"
   ]
  },
  {
   "cell_type": "code",
   "execution_count": 13,
   "metadata": {
    "datalore": {
     "hide_input_from_viewers": true,
     "hide_output_from_viewers": true,
     "node_id": "cIrj50EFQI3pdmF62SsSst",
     "type": "CODE"
    }
   },
   "outputs": [
    {
     "name": "stdout",
     "output_type": "stream",
     "text": [
      "[('Benign', 105724), ('Malware', 13271)]\n"
     ]
    }
   ],
   "source": [
    "# We choose our model of choice and set it's hyper parameters you can change anything\n",
    "clf = RandomForestClassifier(n_estimators=1000)\n",
    "\n",
    "# Train Model\n",
    "clf.fit(X_train, y_train)\n",
    "\n",
    "# Check data balance and variety\n",
    "print(sorted(Counter(y_train).items()))"
   ]
  },
  {
   "cell_type": "code",
   "execution_count": 14,
   "metadata": {
    "datalore": {
     "hide_input_from_viewers": true,
     "hide_output_from_viewers": true,
     "node_id": "HvhBpZ2JowVGPAkE4jdlmI",
     "type": "CODE"
    }
   },
   "outputs": [
    {
     "name": "stdout",
     "output_type": "stream",
     "text": [
      "              precision    recall  f1-score   support\n",
      "\n",
      "      Benign    0.97513   0.98800   0.98152     22660\n",
      "     Malware    0.89317   0.79930   0.84363      2845\n",
      "\n",
      "    accuracy                        0.96695     25505\n",
      "   macro avg    0.93415   0.89365   0.91257     25505\n",
      "weighted avg    0.96599   0.96695   0.96614     25505\n",
      "\n"
     ]
    },
    {
     "data": {
      "image/png": "[encoded data removed]",
      "text/plain": [
       "<Figure size 1500x800 with 2 Axes>"
      ]
     },
     "metadata": {},
     "output_type": "display_data"
    }
   ],
   "source": [
    "# We print our results\n",
    "sns.set(rc={'figure.figsize': (15, 8)})\n",
    "predictions = clf.predict(X_test)\n",
    "true_labels = y_test\n",
    "cf_matrix = confusion_matrix(true_labels, predictions)\n",
    "clf_report = classification_report(true_labels, predictions, digits=5)\n",
    "heatmap = sns.heatmap(cf_matrix, annot=True, cmap='Blues', fmt='g',\n",
    "                      xticklabels=np.unique(true_labels),\n",
    "                      yticklabels=np.unique(true_labels))\n",
    "\n",
    "# The heatmap is cool but this is the most important result\n",
    "print(clf_report)"
   ]
  },
  {
   "cell_type": "code",
   "execution_count": 32,
   "metadata": {
    "datalore": {
     "hide_input_from_viewers": true,
     "hide_output_from_viewers": true,
     "node_id": "cFrnWV1V2pmeLR5l9QlcmQ",
     "type": "CODE"
    }
   },
   "outputs": [],
   "source": [
    "import pickle\n",
    "\n",
    "# Save the model to a file\n",
    "with open(\"models/RandomForestImprovement.pkl\", \"wb\") as f:\n",
    "    pickle.dump(clf, f)"
   ]
  },
  {
   "cell_type": "code",
   "execution_count": 33,
   "metadata": {
    "datalore": {
     "hide_input_from_viewers": true,
     "hide_output_from_viewers": true,
     "node_id": "CrJUwVTmn5eIXjzEI4EOOp",
     "type": "CODE"
    }
   },
   "outputs": [],
   "source": [
    "import pickle\n",
    "with open(\"models/RandomForestImprovement.pkl\", \"rb\") as f:\n",
    "    model = pickle.load(f)"
   ]
  },
  {
   "cell_type": "code",
   "execution_count": 15,
   "metadata": {
    "datalore": {
     "hide_input_from_viewers": true,
     "hide_output_from_viewers": true,
     "node_id": "kQCMPOJN24ZG1thDsvrhuH",
     "type": "CODE"
    }
   },
   "outputs": [
    {
     "data": {
      "text/plain": [
       "array(['Benign', 'Benign', 'Benign', ..., 'Benign', 'Benign', 'Benign'],\n",
       "      dtype='<U7')"
      ]
     },
     "execution_count": 15,
     "metadata": {},
     "output_type": "execute_result"
    }
   ],
   "source": [
    "# Now it's your turn, use the model you have just created :)\n",
    "\n",
    "# Read the valuation json, preprocess it and run your model \n",
    "with open(f'combined_datasets_for_students/dataset_{str(dataset_number)}_val.json') as file:\n",
    "    raw_ds = json.load(file)\n",
    "test_df = pd.json_normalize(raw_ds, max_level=2)\n",
    "for column in test_df.columns[test_df.isna().any()].tolist():\n",
    "    # df.drop(column, axis=1, inplace=True)\n",
    "    test_df[column] = test_df[column].fillna('None')\n",
    "\n",
    "# Preprocess the validation dataset, remember that here you don't have the labels\n",
    "test_df = vectorize_df(test_df)\n",
    "# Predict with your model\n",
    "X = test_df[features_list].to_numpy()\n",
    "predictions = clf.predict(X)\n",
    "predictions\n"
   ]
  },
  {
   "cell_type": "code",
   "execution_count": 9,
   "metadata": {
    "datalore": {
     "hide_input_from_viewers": true,
     "hide_output_from_viewers": true,
     "node_id": "4G1gbhi3zlR13iAe3CeneD",
     "type": "CODE"
    }
   },
   "outputs": [
    {
     "ename": "AttributeError",
     "evalue": "'numpy.ndarray' object has no attribute 'cou'",
     "output_type": "error",
     "traceback": [
      "\u001b[1;31m---------------------------------------------------------------------------\u001b[0m",
      "\u001b[1;31mAttributeError\u001b[0m                            Traceback (most recent call last)",
      "Cell \u001b[1;32mIn [9], line 1\u001b[0m\n\u001b[1;32m----> 1\u001b[0m \u001b[43mpredictions\u001b[49m\u001b[38;5;241;43m.\u001b[39;49m\u001b[43mcou\u001b[49m\n",
      "\u001b[1;31mAttributeError\u001b[0m: 'numpy.ndarray' object has no attribute 'cou'"
     ]
    }
   ],
   "source": []
  },
  {
   "cell_type": "code",
   "execution_count": null,
   "metadata": {},
   "outputs": [],
   "source": []
  },
  {
   "cell_type": "code",
   "execution_count": 16,
   "metadata": {
    "datalore": {
     "hide_input_from_viewers": true,
     "hide_output_from_viewers": true,
     "node_id": "IgDDZQImWYVW03t0JLB1sW",
     "type": "CODE"
    }
   },
   "outputs": [],
   "source": [
    "# Save your preditions\n",
    "enc = LabelEncoder()\n",
    "np.savetxt(f'results/dataset_{str(dataset_number)}_{test_type}_result.txt', enc.fit_transform(predictions), fmt='%2d')"
   ]
  },
  {
   "cell_type": "markdown",
   "metadata": {
    "datalore": {
     "hide_input_from_viewers": false,
     "hide_output_from_viewers": false,
     "node_id": "ManyAlgos",
     "sheet_delimiter": true,
     "type": "MD"
    }
   },
   "source": [
    "# ManyAlgos"
   ]
  },
  {
   "cell_type": "code",
   "execution_count": 8,
   "metadata": {
    "datalore": {
     "hide_input_from_viewers": true,
     "hide_output_from_viewers": true,
     "node_id": "60mVjuKGR8WuCI6mynb5bc",
     "type": "CODE"
    }
   },
   "outputs": [
    {
     "name": "stdout",
     "output_type": "stream",
     "text": [
      "<class 'pandas.core.frame.DataFrame'>\n",
      "RangeIndex: 4282 entries, 0 to 4281\n",
      "Data columns (total 15 columns):\n",
      " #   Column                           Non-Null Count  Dtype  \n",
      "---  ------                           --------------  -----  \n",
      " 0   request.headers.User-Agent       4282 non-null   float64\n",
      " 1   request.headers.Accept-Encoding  4282 non-null   int64  \n",
      " 2   request.headers.Accept-Language  4282 non-null   int64  \n",
      " 3   request.headers.Sec-Fetch-Site   4282 non-null   int64  \n",
      " 4   request.headers.Sec-Fetch-Mode   4282 non-null   int64  \n",
      " 5   request.headers.Sec-Fetch-Dest   4282 non-null   int64  \n",
      " 6   request.headers.Date             4282 non-null   float64\n",
      " 7   request.url                      4282 non-null   float64\n",
      " 8   response.status                  4282 non-null   int64  \n",
      " 9   response.headers.Content-Length  4282 non-null   object \n",
      " 10  response.body                    4282 non-null   float64\n",
      " 11  request.headers.Cookie           4282 non-null   float64\n",
      " 12  request.headers.Content-Length   4282 non-null   float64\n",
      " 13  attack_type                      4282 non-null   object \n",
      " 14  label                            4282 non-null   object \n",
      "dtypes: float64(6), int64(6), object(3)\n",
      "memory usage: 1.2 MB\n",
      "['request.headers.User-Agent', 'request.headers.Accept-Encoding', 'request.headers.Accept-Language', 'request.headers.Sec-Fetch-Site', 'request.headers.Sec-Fetch-Mode', 'request.headers.Sec-Fetch-Dest', 'request.headers.Date', 'request.url', 'response.status', 'response.headers.Content-Length', 'response.body', 'request.headers.Cookie', 'request.headers.Content-Length']\n"
     ]
    },
    {
     "data": {
      "text/html": [
       "<pre>request.headers.User-Agent         float64\n",
       "request.headers.Accept-Encoding      int64\n",
       "request.headers.Accept-Language      int64\n",
       "request.headers.Sec-Fetch-Site       int64\n",
       "request.headers.Sec-Fetch-Mode       int64\n",
       "request.headers.Sec-Fetch-Dest       int64\n",
       "request.headers.Date               float64\n",
       "request.url                        float64\n",
       "response.status                      int64\n",
       "response.headers.Content-Length     object\n",
       "response.body                      float64\n",
       "request.headers.Cookie             float64\n",
       "request.headers.Content-Length     float64\n",
       "attack_type                         object\n",
       "label                               object\n",
       "dtype: object</pre>"
      ]
     },
     "metadata": {},
     "output_type": "display_data"
    }
   ],
   "source": [
    "# Imports, settings and first dataset view\n",
    "import pandas as pd\n",
    "import seaborn as sns\n",
    "import numpy as np\n",
    "import json\n",
    "\n",
    "from sklearn.feature_extraction.text import CountVectorizer, HashingVectorizer\n",
    "from sklearn.preprocessing import LabelEncoder\n",
    "from sklearn.model_selection import train_test_split\n",
    "from sklearn.metrics import confusion_matrix, classification_report\n",
    "from collections import Counter\n",
    "from sklearn.model_selection import train_test_split\n",
    "from sklearn.ensemble import GradientBoostingClassifier\n",
    "\n",
    "# Set pandas to show all columns when you print a dataframe\n",
    "pd.set_option('display.max_columns', None)\n",
    "\n",
    "# Global setting here you choose the dataset number and classification type for the model\n",
    "dataset_number = 1  # Options are [1, 2, 3, 4]\n",
    "test_type = 'label'  # Options are ['label', 'attack_type']\n",
    "\n",
    "# Read the json and read it to a pandas dataframe object, you can change these settings\n",
    "with open(f'combined_datasets_for_students/dataset_{str(dataset_number)}_train.json') as file:\n",
    "    raw_ds = json.load(file)\n",
    "df = pd.json_normalize(raw_ds, max_level=2)\n",
    "\n",
    "# Shoe the first five lines of the dataframe to see if everything was read accordingly \n",
    "df\n",
    "\n",
    "# **# open the dataset file**\n",
    "\n",
    "\n",
    "# Fill the black attack tag lines with \"Benign\" string\n",
    "df['request.Attack_Tag'] = df['request.Attack_Tag'].fillna('Benign')\n",
    "df['attack_type'] = df['request.Attack_Tag']\n",
    "\n",
    "\n",
    "# This function will be used in the lambda below to iterate over the label columns \n",
    "# You can use this snippet to run your own lambda on any data with the apply() method\n",
    "def categorize(row):\n",
    "    if row['request.Attack_Tag'] == 'Benign':\n",
    "        return 'Benign'\n",
    "    return 'Malware'\n",
    "\n",
    "\n",
    "df['label'] = df.apply(lambda row: categorize(row), axis=1)\n",
    "\n",
    "# After finishing the arrangements we delete the irrelevant column\n",
    "df.drop('request.Attack_Tag', axis=1, inplace=True)\n",
    "\n",
    "df\n",
    "\n",
    "# **############## Basic dataset label arrangements ###############**\n",
    "\n",
    "\n",
    "# Remove all NAN columns or replace with desired string\n",
    "# This loop iterates over all of the column names which are all NaN\n",
    "for column in df.columns[df.isna().any()].tolist():\n",
    "    # df.drop(column, axis=1, inplace=True)\n",
    "    df[column] = df[column].fillna('None')\n",
    "\n",
    "# If you want to detect columns that may have only some NaN values use this:\n",
    "# df.loc[:, df.isna().any()].tolist()\n",
    "\n",
    "df\n",
    "\n",
    "# Setting features for further feature extraction by choosing columns\n",
    "# Some will be \"simply\" encoded via label encoding and others with HashingVectorizer\n",
    "\n",
    "# On these headers we will run a \"simple\" BOW\n",
    "SIMPLE_HEADERS = ['request.headers.Accept-Encoding',\n",
    "                  'request.method',\n",
    "                  'request.headers.Accept-Language',\n",
    "                  'request.headers.Sec-Fetch-Site',\n",
    "                  'request.headers.Sec-Fetch-Mode',\n",
    "                  'request.headers.Sec-Fetch-Dest',\n",
    "                  'response.status',\n",
    "                  'response.status_code'\n",
    "                  \n",
    "                  ]\n",
    "\n",
    "# On these headers we will run HashingVectorizer\n",
    "COMPLEX_HEADERS = ['request.headers.User-Agent',\n",
    "                   'request.headers.Set-Cookie',\n",
    "                   'request.headers.Date',\n",
    "                   'request.url',\n",
    "                   'response.body',\n",
    "                   'response.headers.Location',\n",
    "                   'request.headers.Content-Length',\n",
    "                   'request.headers.Cookie',\n",
    "                   'response.headers.Set-Cookie'\n",
    "                   ]\n",
    "\n",
    "COLUMNS_TO_REMOVE = ['request.headers.Host',\n",
    "                     'request.headers.Accept',\n",
    "                     'request.headers.Connection',\n",
    "                     'request.headers.Sec-Fetch-User',\n",
    "                     'response.headers.Content-Type',\n",
    "                     'request.body',\n",
    "                     'response.status_code',\n",
    "                     'request.headers.Set-Cookie',\n",
    "                     'request.method',\n",
    "                     'response.headers.Location',\n",
    "                     'response.headers.Set-Cookie'\n",
    "                     ]\n",
    "\n",
    "\n",
    "# This is our main preprocessing function that will iterate over all of the chosen \n",
    "# columns and run some feature extraction models\n",
    "def vectorize_df(df):\n",
    "    le = LabelEncoder()\n",
    "    h_vec = HashingVectorizer(n_features=4)\n",
    "\n",
    "    # Run LabelEncoder on the chosen features\n",
    "    for column in SIMPLE_HEADERS:\n",
    "        df[column] = le.fit_transform(df[column])\n",
    "\n",
    "    # Run HashingVectorizer on the chosen features\n",
    "    for column in COMPLEX_HEADERS:\n",
    "        newHVec = h_vec.fit_transform(df[column])\n",
    "        df[column] = newHVec.todense()\n",
    "\n",
    "    # Remove some columns that may be needed.. (Or not, you decide)\n",
    "    for column in COLUMNS_TO_REMOVE:\n",
    "        df.drop(column, axis=1, inplace=True)\n",
    "    return df\n",
    "\n",
    "\n",
    "df = vectorize_df(df)\n",
    "\n",
    "# Memory check (For large datasets sometimes the dataframe will exceed the computers resources)\n",
    "df.info(memory_usage=\"deep\")\n",
    "\n",
    "# Choose the right features\n",
    "# In our example code we choose all the columns as our feature this can be the right or wrong way to approach the model, you choose.\n",
    "\n",
    "features_list = df.columns.to_list()\n",
    "features_list.remove('label')\n",
    "features_list.remove('attack_type')\n",
    "print(features_list)\n",
    "\n",
    "# Recheck all datatype before training to see we don't have any objects in our features\n",
    "# In this example our model must get features containing only numbers so we recheck to see if we missed anything during preprocessing\n",
    "df.dtypes"
   ]
  },
  {
   "cell_type": "code",
   "execution_count": 9,
   "metadata": {
    "datalore": {
     "hide_input_from_viewers": true,
     "hide_output_from_viewers": true,
     "node_id": "8hUYZ1CxzUvCMVah0a3XnI",
     "type": "CODE"
    }
   },
   "outputs": [
    {
     "data": {
      "text/html": [
       "<div>\n",
       "<style scoped>\n",
       "    .dataframe tbody tr th:only-of-type {\n",
       "        vertical-align: middle;\n",
       "    }\n",
       "\n",
       "    .dataframe tbody tr th {\n",
       "        vertical-align: top;\n",
       "    }\n",
       "\n",
       "    .dataframe thead th {\n",
       "        text-align: right;\n",
       "    }\n",
       "</style>\n",
       "<table border=\"1\" class=\"dataframe\">\n",
       "  <thead>\n",
       "    <tr style=\"text-align: right;\">\n",
       "      <th></th>\n",
       "      <th>request.headers.User-Agent</th>\n",
       "      <th>request.headers.Accept-Encoding</th>\n",
       "      <th>request.headers.Accept-Language</th>\n",
       "      <th>request.headers.Sec-Fetch-Site</th>\n",
       "      <th>request.headers.Sec-Fetch-Mode</th>\n",
       "      <th>request.headers.Sec-Fetch-Dest</th>\n",
       "      <th>request.headers.Date</th>\n",
       "      <th>request.url</th>\n",
       "      <th>response.status</th>\n",
       "      <th>response.headers.Content-Length</th>\n",
       "      <th>response.body</th>\n",
       "      <th>request.headers.Cookie</th>\n",
       "      <th>request.headers.Content-Length</th>\n",
       "      <th>attack_type</th>\n",
       "      <th>label</th>\n",
       "    </tr>\n",
       "  </thead>\n",
       "  <tbody>\n",
       "    <tr>\n",
       "      <th>0</th>\n",
       "      <td>-0.632456</td>\n",
       "      <td>0</td>\n",
       "      <td>1</td>\n",
       "      <td>0</td>\n",
       "      <td>0</td>\n",
       "      <td>0</td>\n",
       "      <td>-0.577350</td>\n",
       "      <td>0.000000</td>\n",
       "      <td>0</td>\n",
       "      <td>72</td>\n",
       "      <td>0.000000</td>\n",
       "      <td>-1.000000</td>\n",
       "      <td>-1.0</td>\n",
       "      <td>Directory Traversal</td>\n",
       "      <td>Malware</td>\n",
       "    </tr>\n",
       "    <tr>\n",
       "      <th>1</th>\n",
       "      <td>-0.632456</td>\n",
       "      <td>0</td>\n",
       "      <td>0</td>\n",
       "      <td>0</td>\n",
       "      <td>0</td>\n",
       "      <td>0</td>\n",
       "      <td>-0.577350</td>\n",
       "      <td>0.000000</td>\n",
       "      <td>4</td>\n",
       "      <td>41</td>\n",
       "      <td>0.000000</td>\n",
       "      <td>-1.000000</td>\n",
       "      <td>-1.0</td>\n",
       "      <td>Benign</td>\n",
       "      <td>Benign</td>\n",
       "    </tr>\n",
       "    <tr>\n",
       "      <th>2</th>\n",
       "      <td>-0.800000</td>\n",
       "      <td>0</td>\n",
       "      <td>0</td>\n",
       "      <td>0</td>\n",
       "      <td>0</td>\n",
       "      <td>0</td>\n",
       "      <td>-0.577350</td>\n",
       "      <td>1.000000</td>\n",
       "      <td>0</td>\n",
       "      <td>105</td>\n",
       "      <td>0.436436</td>\n",
       "      <td>-0.408248</td>\n",
       "      <td>-1.0</td>\n",
       "      <td>Cookie Injection</td>\n",
       "      <td>Malware</td>\n",
       "    </tr>\n",
       "    <tr>\n",
       "      <th>3</th>\n",
       "      <td>-0.516398</td>\n",
       "      <td>0</td>\n",
       "      <td>1</td>\n",
       "      <td>0</td>\n",
       "      <td>0</td>\n",
       "      <td>0</td>\n",
       "      <td>-0.577350</td>\n",
       "      <td>0.894427</td>\n",
       "      <td>4</td>\n",
       "      <td>30</td>\n",
       "      <td>0.577350</td>\n",
       "      <td>-1.000000</td>\n",
       "      <td>-1.0</td>\n",
       "      <td>Benign</td>\n",
       "      <td>Benign</td>\n",
       "    </tr>\n",
       "    <tr>\n",
       "      <th>4</th>\n",
       "      <td>0.377964</td>\n",
       "      <td>0</td>\n",
       "      <td>0</td>\n",
       "      <td>0</td>\n",
       "      <td>0</td>\n",
       "      <td>29</td>\n",
       "      <td>-0.577350</td>\n",
       "      <td>0.000000</td>\n",
       "      <td>4</td>\n",
       "      <td>41</td>\n",
       "      <td>0.000000</td>\n",
       "      <td>-1.000000</td>\n",
       "      <td>-1.0</td>\n",
       "      <td>LOG4J</td>\n",
       "      <td>Malware</td>\n",
       "    </tr>\n",
       "    <tr>\n",
       "      <th>...</th>\n",
       "      <td>...</td>\n",
       "      <td>...</td>\n",
       "      <td>...</td>\n",
       "      <td>...</td>\n",
       "      <td>...</td>\n",
       "      <td>...</td>\n",
       "      <td>...</td>\n",
       "      <td>...</td>\n",
       "      <td>...</td>\n",
       "      <td>...</td>\n",
       "      <td>...</td>\n",
       "      <td>...</td>\n",
       "      <td>...</td>\n",
       "      <td>...</td>\n",
       "      <td>...</td>\n",
       "    </tr>\n",
       "    <tr>\n",
       "      <th>4277</th>\n",
       "      <td>0.000000</td>\n",
       "      <td>0</td>\n",
       "      <td>2</td>\n",
       "      <td>0</td>\n",
       "      <td>1</td>\n",
       "      <td>0</td>\n",
       "      <td>-0.316228</td>\n",
       "      <td>1.000000</td>\n",
       "      <td>1</td>\n",
       "      <td>211</td>\n",
       "      <td>0.589768</td>\n",
       "      <td>0.000000</td>\n",
       "      <td>0.0</td>\n",
       "      <td>Cookie Injection</td>\n",
       "      <td>Malware</td>\n",
       "    </tr>\n",
       "    <tr>\n",
       "      <th>4278</th>\n",
       "      <td>-0.755929</td>\n",
       "      <td>0</td>\n",
       "      <td>0</td>\n",
       "      <td>0</td>\n",
       "      <td>0</td>\n",
       "      <td>0</td>\n",
       "      <td>-0.316228</td>\n",
       "      <td>0.577350</td>\n",
       "      <td>4</td>\n",
       "      <td>36</td>\n",
       "      <td>0.000000</td>\n",
       "      <td>-1.000000</td>\n",
       "      <td>-1.0</td>\n",
       "      <td>Benign</td>\n",
       "      <td>Benign</td>\n",
       "    </tr>\n",
       "    <tr>\n",
       "      <th>4279</th>\n",
       "      <td>0.000000</td>\n",
       "      <td>0</td>\n",
       "      <td>1</td>\n",
       "      <td>0</td>\n",
       "      <td>0</td>\n",
       "      <td>0</td>\n",
       "      <td>-0.316228</td>\n",
       "      <td>1.000000</td>\n",
       "      <td>1</td>\n",
       "      <td>211</td>\n",
       "      <td>0.589768</td>\n",
       "      <td>0.000000</td>\n",
       "      <td>0.0</td>\n",
       "      <td>Cookie Injection</td>\n",
       "      <td>Malware</td>\n",
       "    </tr>\n",
       "    <tr>\n",
       "      <th>4280</th>\n",
       "      <td>-0.755929</td>\n",
       "      <td>0</td>\n",
       "      <td>1</td>\n",
       "      <td>0</td>\n",
       "      <td>0</td>\n",
       "      <td>0</td>\n",
       "      <td>-0.235702</td>\n",
       "      <td>0.000000</td>\n",
       "      <td>4</td>\n",
       "      <td>41</td>\n",
       "      <td>0.000000</td>\n",
       "      <td>-1.000000</td>\n",
       "      <td>-1.0</td>\n",
       "      <td>Benign</td>\n",
       "      <td>Benign</td>\n",
       "    </tr>\n",
       "    <tr>\n",
       "      <th>4281</th>\n",
       "      <td>0.000000</td>\n",
       "      <td>0</td>\n",
       "      <td>1</td>\n",
       "      <td>0</td>\n",
       "      <td>1</td>\n",
       "      <td>0</td>\n",
       "      <td>-0.316228</td>\n",
       "      <td>0.000000</td>\n",
       "      <td>4</td>\n",
       "      <td>41</td>\n",
       "      <td>0.000000</td>\n",
       "      <td>-1.000000</td>\n",
       "      <td>-1.0</td>\n",
       "      <td>LOG4J</td>\n",
       "      <td>Malware</td>\n",
       "    </tr>\n",
       "  </tbody>\n",
       "</table>\n",
       "<p>4282 rows × 15 columns</p>\n",
       "</div>"
      ]
     },
     "metadata": {},
     "output_type": "display_data"
    }
   ],
   "source": [
    "df"
   ]
  },
  {
   "cell_type": "code",
   "execution_count": 10,
   "metadata": {
    "datalore": {
     "hide_input_from_viewers": true,
     "hide_output_from_viewers": true,
     "node_id": "giuQsZ0NHy2lK5YSoe2FGc",
     "type": "CODE"
    }
   },
   "outputs": [
    {
     "name": "stdout",
     "output_type": "stream",
     "text": [
      "(3526, 13) (3526,)\n",
      "(756, 13) (756,)\n"
     ]
    },
    {
     "data": {
      "text/plain": [
       "Counter({'Malware': 2264, 'Benign': 2018})"
      ]
     },
     "metadata": {},
     "output_type": "display_data"
    }
   ],
   "source": [
    "# Data train and test split preparations. Here we will insert our feature list and label list.\n",
    "# Afterwards the data will be trained and fitted on the amazing XGBoost model\n",
    "# X_Train and y_Train will be used for training\n",
    "# X_test and y_test.T will be used for over fitting checking and overall score testing\n",
    "\n",
    "# We convert the feature list to a numpy array, this is required for the model fitting\n",
    "X = df[features_list].to_numpy()\n",
    "\n",
    "# This column is the desired prediction we will train our model on\n",
    "y = np.stack(df[test_type])\n",
    "\n",
    "# We split the dataset to train and test according to the required ration\n",
    "# Do not change the test_size -> you can change anything else\n",
    "X_train, X_test, y_train, y_test = train_test_split(X, y, test_size=0.1765, random_state=42, stratify=y)\n",
    "\n",
    "# We print the resulted datasets and count the difference \n",
    "print(X_train.shape, y_train.shape)\n",
    "print(X_test.shape, y_test.shape)\n",
    "counter = Counter(y)\n",
    "counter"
   ]
  },
  {
   "cell_type": "code",
   "execution_count": 61,
   "metadata": {
    "datalore": {
     "hide_input_from_viewers": true,
     "hide_output_from_viewers": true,
     "node_id": "R9H3UTmrXEgpnpUP15YFhE",
     "type": "CODE"
    }
   },
   "outputs": [],
   "source": [
    "# # Create the gradient boosting classifier\n",
    "# clf = GradientBoostingClassifier()\n",
    "\n",
    "# # Fit the classifier on the training data\n",
    "# clf.fit(X_train, y_train)"
   ]
  },
  {
   "cell_type": "code",
   "execution_count": 62,
   "metadata": {
    "datalore": {
     "hide_input_from_viewers": true,
     "hide_output_from_viewers": true,
     "node_id": "pdKl3qibuLL0YIGiNM6m7N",
     "type": "CODE"
    }
   },
   "outputs": [
    {
     "data": {
      "text/plain": [
       "AdaBoostClassifier()"
      ]
     },
     "metadata": {},
     "output_type": "display_data"
    }
   ],
   "source": [
    "# from sklearn.ensemble import AdaBoostClassifier\n",
    "# # Create the AdaBoost classifier\n",
    "# clf = AdaBoostClassifier()\n",
    "\n",
    "# # Fit the classifier on the training data\n",
    "# clf.fit(X_train, y_train)"
   ]
  },
  {
   "cell_type": "code",
   "execution_count": 21,
   "metadata": {
    "datalore": {
     "hide_input_from_viewers": true,
     "hide_output_from_viewers": true,
     "node_id": "DupNZS5knVqBfiEkO2rrtp",
     "type": "CODE"
    }
   },
   "outputs": [
    {
     "name": "stdout",
     "output_type": "stream",
     "text": [
      "              precision    recall  f1-score   support\n",
      "\n",
      "      Benign    0.50345   0.82022   0.62393       356\n",
      "     Malware    0.63636   0.28000   0.38889       400\n",
      "\n",
      "    accuracy                        0.53439       756\n",
      "   macro avg    0.56991   0.55011   0.50641       756\n",
      "weighted avg    0.57377   0.53439   0.49957       756\n",
      "\n"
     ]
    },
    {
     "data": {
      "image/png": "[encoded data removed]"
     },
     "metadata": {
      "image/png": {}
     },
     "output_type": "display_data"
    }
   ],
   "source": [
    "sns.set(rc={'figure.figsize': (15, 8)})\n",
    "predictions = clf.predict(X_test)\n",
    "true_labels = y_test\n",
    "cf_matrix = confusion_matrix(true_labels, predictions)\n",
    "clf_report = classification_report(true_labels, predictions, digits=5)\n",
    "heatmap = sns.heatmap(cf_matrix, annot=True, cmap='Blues', fmt='g',\n",
    "                      xticklabels=np.unique(true_labels),\n",
    "                      yticklabels=np.unique(true_labels))\n",
    "\n",
    "# The heatmap is cool but this is the most important result\n",
    "print(clf_report)"
   ]
  }
 ],
 "metadata": {
  "datalore": {
   "base_environment": "default",
   "computation_mode": "JUPYTER",
   "package_manager": "pip",
   "packages": [
    {
     "name": "tabulate",
     "source": "PIP"
    },
    {
     "name": "sklearn",
     "source": "PIP",
     "version": "0.0.post1"
    }
   ],
   "version": 1
  },
  "kernelspec": {
   "display_name": "Python 3 (ipykernel)",
   "language": "python",
   "name": "python3"
  },
  "language_info": {
   "codemirror_mode": {
    "name": "ipython",
    "version": 3
   },
   "file_extension": ".py",
   "mimetype": "text/x-python",
   "name": "python",
   "nbconvert_exporter": "python",
   "pygments_lexer": "ipython3",
   "version": "3.10.4"
  },
  "vscode": {
   "interpreter": {
    "hash": "238ebd38305a5a0aa096630ccb36157e4154342fc233aa75491355bdb12de759"
   }
  }
 },
 "nbformat": 4,
 "nbformat_minor": 4
}
